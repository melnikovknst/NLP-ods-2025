{
  "cells": [
    {
      "cell_type": "markdown",
      "metadata": {
        "id": "C2EasHxOX_LJ"
      },
      "source": [
        "# Text classification with RNN"
      ]
    },
    {
      "cell_type": "markdown",
      "metadata": {
        "id": "g2CSEimwX_LU"
      },
      "source": [
        "In this notebook we will cover a couple of tips and tricks for tweaking a neural text classifier. We will use an LSTM model for our experiments. We use torch version 1.4.\n",
        "The code is inspired by [this](https://github.com/lukysummer/Movie-Review-Sentiment-Analysis-LSTM-Pytorch/blob/master/sentiment_analysis_LSTM.py) repository."
      ]
    },
    {
      "cell_type": "markdown",
      "metadata": {
        "id": "2R6tP8mdX_LV"
      },
      "source": [
        "### 1. LOAD THE TRAINING TEXT"
      ]
    },
    {
      "cell_type": "code",
      "execution_count": null,
      "metadata": {
        "id": "LxDiE0w9X_LW"
      },
      "outputs": [],
      "source": [
        "from sklearn.datasets import load_files"
      ]
    },
    {
      "cell_type": "code",
      "execution_count": null,
      "metadata": {
        "id": "64zxqttYX_LY"
      },
      "outputs": [],
      "source": [
        "from nltk import download"
      ]
    },
    {
      "cell_type": "code",
      "execution_count": null,
      "metadata": {
        "colab": {
          "base_uri": "https://localhost:8080/"
        },
        "id": "L8UTNnQ5X_LZ",
        "outputId": "37d33f1c-1982-4971-da19-b362159fc925"
      },
      "outputs": [
        {
          "output_type": "stream",
          "name": "stderr",
          "text": [
            "[nltk_data] Downloading package movie_reviews to data...\n",
            "[nltk_data]   Unzipping corpora/movie_reviews.zip.\n"
          ]
        },
        {
          "output_type": "execute_result",
          "data": {
            "text/plain": [
              "True"
            ]
          },
          "metadata": {},
          "execution_count": 3
        }
      ],
      "source": [
        "download(\"movie_reviews\", download_dir=\"data\")"
      ]
    },
    {
      "cell_type": "code",
      "execution_count": null,
      "metadata": {
        "id": "fHq58g0eX_LZ"
      },
      "outputs": [],
      "source": [
        "movies = load_files(\"./data/corpora/movie_reviews\")"
      ]
    },
    {
      "cell_type": "code",
      "execution_count": null,
      "metadata": {
        "id": "gTnJpiAoX_La"
      },
      "outputs": [],
      "source": [
        "reviews, encoded_labels = [review.decode() for review in movies.data], movies.target"
      ]
    },
    {
      "cell_type": "code",
      "execution_count": null,
      "metadata": {
        "colab": {
          "base_uri": "https://localhost:8080/",
          "height": 424
        },
        "id": "sefgzUWeec7H",
        "outputId": "588048f6-7884-450e-e9f9-a9d1018f32d6"
      },
      "outputs": [
        {
          "output_type": "execute_result",
          "data": {
            "text/plain": [
              "                                                reviews  encoded_labels\n",
              "0     arnold schwarzenegger has been an icon for act...               0\n",
              "1     good films are hard to find these days . \\ngre...               1\n",
              "2     quaid stars as a man who has taken up the prof...               1\n",
              "3     we could paraphrase michelle pfieffer's charac...               0\n",
              "4     kolya is one of the richest films i've seen in...               1\n",
              "...                                                 ...             ...\n",
              "1995  under any other circumstances , i would not be...               0\n",
              "1996  bruce barth's mellow piano plays in the backgr...               1\n",
              "1997   \" a man is not a man without eight taels of g...               1\n",
              "1998  this is a film that i was inclined to like at ...               0\n",
              "1999  any remake of an alfred hitchcock film is at b...               0\n",
              "\n",
              "[2000 rows x 2 columns]"
            ],
            "text/html": [
              "\n",
              "  <div id=\"df-7e57e3e1-d3d0-4ab6-85cf-e99930c28d2b\" class=\"colab-df-container\">\n",
              "    <div>\n",
              "<style scoped>\n",
              "    .dataframe tbody tr th:only-of-type {\n",
              "        vertical-align: middle;\n",
              "    }\n",
              "\n",
              "    .dataframe tbody tr th {\n",
              "        vertical-align: top;\n",
              "    }\n",
              "\n",
              "    .dataframe thead th {\n",
              "        text-align: right;\n",
              "    }\n",
              "</style>\n",
              "<table border=\"1\" class=\"dataframe\">\n",
              "  <thead>\n",
              "    <tr style=\"text-align: right;\">\n",
              "      <th></th>\n",
              "      <th>reviews</th>\n",
              "      <th>encoded_labels</th>\n",
              "    </tr>\n",
              "  </thead>\n",
              "  <tbody>\n",
              "    <tr>\n",
              "      <th>0</th>\n",
              "      <td>arnold schwarzenegger has been an icon for act...</td>\n",
              "      <td>0</td>\n",
              "    </tr>\n",
              "    <tr>\n",
              "      <th>1</th>\n",
              "      <td>good films are hard to find these days . \\ngre...</td>\n",
              "      <td>1</td>\n",
              "    </tr>\n",
              "    <tr>\n",
              "      <th>2</th>\n",
              "      <td>quaid stars as a man who has taken up the prof...</td>\n",
              "      <td>1</td>\n",
              "    </tr>\n",
              "    <tr>\n",
              "      <th>3</th>\n",
              "      <td>we could paraphrase michelle pfieffer's charac...</td>\n",
              "      <td>0</td>\n",
              "    </tr>\n",
              "    <tr>\n",
              "      <th>4</th>\n",
              "      <td>kolya is one of the richest films i've seen in...</td>\n",
              "      <td>1</td>\n",
              "    </tr>\n",
              "    <tr>\n",
              "      <th>...</th>\n",
              "      <td>...</td>\n",
              "      <td>...</td>\n",
              "    </tr>\n",
              "    <tr>\n",
              "      <th>1995</th>\n",
              "      <td>under any other circumstances , i would not be...</td>\n",
              "      <td>0</td>\n",
              "    </tr>\n",
              "    <tr>\n",
              "      <th>1996</th>\n",
              "      <td>bruce barth's mellow piano plays in the backgr...</td>\n",
              "      <td>1</td>\n",
              "    </tr>\n",
              "    <tr>\n",
              "      <th>1997</th>\n",
              "      <td>\" a man is not a man without eight taels of g...</td>\n",
              "      <td>1</td>\n",
              "    </tr>\n",
              "    <tr>\n",
              "      <th>1998</th>\n",
              "      <td>this is a film that i was inclined to like at ...</td>\n",
              "      <td>0</td>\n",
              "    </tr>\n",
              "    <tr>\n",
              "      <th>1999</th>\n",
              "      <td>any remake of an alfred hitchcock film is at b...</td>\n",
              "      <td>0</td>\n",
              "    </tr>\n",
              "  </tbody>\n",
              "</table>\n",
              "<p>2000 rows × 2 columns</p>\n",
              "</div>\n",
              "    <div class=\"colab-df-buttons\">\n",
              "\n",
              "  <div class=\"colab-df-container\">\n",
              "    <button class=\"colab-df-convert\" onclick=\"convertToInteractive('df-7e57e3e1-d3d0-4ab6-85cf-e99930c28d2b')\"\n",
              "            title=\"Convert this dataframe to an interactive table.\"\n",
              "            style=\"display:none;\">\n",
              "\n",
              "  <svg xmlns=\"http://www.w3.org/2000/svg\" height=\"24px\" viewBox=\"0 -960 960 960\">\n",
              "    <path d=\"M120-120v-720h720v720H120Zm60-500h600v-160H180v160Zm220 220h160v-160H400v160Zm0 220h160v-160H400v160ZM180-400h160v-160H180v160Zm440 0h160v-160H620v160ZM180-180h160v-160H180v160Zm440 0h160v-160H620v160Z\"/>\n",
              "  </svg>\n",
              "    </button>\n",
              "\n",
              "  <style>\n",
              "    .colab-df-container {\n",
              "      display:flex;\n",
              "      gap: 12px;\n",
              "    }\n",
              "\n",
              "    .colab-df-convert {\n",
              "      background-color: #E8F0FE;\n",
              "      border: none;\n",
              "      border-radius: 50%;\n",
              "      cursor: pointer;\n",
              "      display: none;\n",
              "      fill: #1967D2;\n",
              "      height: 32px;\n",
              "      padding: 0 0 0 0;\n",
              "      width: 32px;\n",
              "    }\n",
              "\n",
              "    .colab-df-convert:hover {\n",
              "      background-color: #E2EBFA;\n",
              "      box-shadow: 0px 1px 2px rgba(60, 64, 67, 0.3), 0px 1px 3px 1px rgba(60, 64, 67, 0.15);\n",
              "      fill: #174EA6;\n",
              "    }\n",
              "\n",
              "    .colab-df-buttons div {\n",
              "      margin-bottom: 4px;\n",
              "    }\n",
              "\n",
              "    [theme=dark] .colab-df-convert {\n",
              "      background-color: #3B4455;\n",
              "      fill: #D2E3FC;\n",
              "    }\n",
              "\n",
              "    [theme=dark] .colab-df-convert:hover {\n",
              "      background-color: #434B5C;\n",
              "      box-shadow: 0px 1px 3px 1px rgba(0, 0, 0, 0.15);\n",
              "      filter: drop-shadow(0px 1px 2px rgba(0, 0, 0, 0.3));\n",
              "      fill: #FFFFFF;\n",
              "    }\n",
              "  </style>\n",
              "\n",
              "    <script>\n",
              "      const buttonEl =\n",
              "        document.querySelector('#df-7e57e3e1-d3d0-4ab6-85cf-e99930c28d2b button.colab-df-convert');\n",
              "      buttonEl.style.display =\n",
              "        google.colab.kernel.accessAllowed ? 'block' : 'none';\n",
              "\n",
              "      async function convertToInteractive(key) {\n",
              "        const element = document.querySelector('#df-7e57e3e1-d3d0-4ab6-85cf-e99930c28d2b');\n",
              "        const dataTable =\n",
              "          await google.colab.kernel.invokeFunction('convertToInteractive',\n",
              "                                                    [key], {});\n",
              "        if (!dataTable) return;\n",
              "\n",
              "        const docLinkHtml = 'Like what you see? Visit the ' +\n",
              "          '<a target=\"_blank\" href=https://colab.research.google.com/notebooks/data_table.ipynb>data table notebook</a>'\n",
              "          + ' to learn more about interactive tables.';\n",
              "        element.innerHTML = '';\n",
              "        dataTable['output_type'] = 'display_data';\n",
              "        await google.colab.output.renderOutput(dataTable, element);\n",
              "        const docLink = document.createElement('div');\n",
              "        docLink.innerHTML = docLinkHtml;\n",
              "        element.appendChild(docLink);\n",
              "      }\n",
              "    </script>\n",
              "  </div>\n",
              "\n",
              "\n",
              "<div id=\"df-3831f7c3-4dd4-4869-8cbf-e48800035a7f\">\n",
              "  <button class=\"colab-df-quickchart\" onclick=\"quickchart('df-3831f7c3-4dd4-4869-8cbf-e48800035a7f')\"\n",
              "            title=\"Suggest charts\"\n",
              "            style=\"display:none;\">\n",
              "\n",
              "<svg xmlns=\"http://www.w3.org/2000/svg\" height=\"24px\"viewBox=\"0 0 24 24\"\n",
              "     width=\"24px\">\n",
              "    <g>\n",
              "        <path d=\"M19 3H5c-1.1 0-2 .9-2 2v14c0 1.1.9 2 2 2h14c1.1 0 2-.9 2-2V5c0-1.1-.9-2-2-2zM9 17H7v-7h2v7zm4 0h-2V7h2v10zm4 0h-2v-4h2v4z\"/>\n",
              "    </g>\n",
              "</svg>\n",
              "  </button>\n",
              "\n",
              "<style>\n",
              "  .colab-df-quickchart {\n",
              "      --bg-color: #E8F0FE;\n",
              "      --fill-color: #1967D2;\n",
              "      --hover-bg-color: #E2EBFA;\n",
              "      --hover-fill-color: #174EA6;\n",
              "      --disabled-fill-color: #AAA;\n",
              "      --disabled-bg-color: #DDD;\n",
              "  }\n",
              "\n",
              "  [theme=dark] .colab-df-quickchart {\n",
              "      --bg-color: #3B4455;\n",
              "      --fill-color: #D2E3FC;\n",
              "      --hover-bg-color: #434B5C;\n",
              "      --hover-fill-color: #FFFFFF;\n",
              "      --disabled-bg-color: #3B4455;\n",
              "      --disabled-fill-color: #666;\n",
              "  }\n",
              "\n",
              "  .colab-df-quickchart {\n",
              "    background-color: var(--bg-color);\n",
              "    border: none;\n",
              "    border-radius: 50%;\n",
              "    cursor: pointer;\n",
              "    display: none;\n",
              "    fill: var(--fill-color);\n",
              "    height: 32px;\n",
              "    padding: 0;\n",
              "    width: 32px;\n",
              "  }\n",
              "\n",
              "  .colab-df-quickchart:hover {\n",
              "    background-color: var(--hover-bg-color);\n",
              "    box-shadow: 0 1px 2px rgba(60, 64, 67, 0.3), 0 1px 3px 1px rgba(60, 64, 67, 0.15);\n",
              "    fill: var(--button-hover-fill-color);\n",
              "  }\n",
              "\n",
              "  .colab-df-quickchart-complete:disabled,\n",
              "  .colab-df-quickchart-complete:disabled:hover {\n",
              "    background-color: var(--disabled-bg-color);\n",
              "    fill: var(--disabled-fill-color);\n",
              "    box-shadow: none;\n",
              "  }\n",
              "\n",
              "  .colab-df-spinner {\n",
              "    border: 2px solid var(--fill-color);\n",
              "    border-color: transparent;\n",
              "    border-bottom-color: var(--fill-color);\n",
              "    animation:\n",
              "      spin 1s steps(1) infinite;\n",
              "  }\n",
              "\n",
              "  @keyframes spin {\n",
              "    0% {\n",
              "      border-color: transparent;\n",
              "      border-bottom-color: var(--fill-color);\n",
              "      border-left-color: var(--fill-color);\n",
              "    }\n",
              "    20% {\n",
              "      border-color: transparent;\n",
              "      border-left-color: var(--fill-color);\n",
              "      border-top-color: var(--fill-color);\n",
              "    }\n",
              "    30% {\n",
              "      border-color: transparent;\n",
              "      border-left-color: var(--fill-color);\n",
              "      border-top-color: var(--fill-color);\n",
              "      border-right-color: var(--fill-color);\n",
              "    }\n",
              "    40% {\n",
              "      border-color: transparent;\n",
              "      border-right-color: var(--fill-color);\n",
              "      border-top-color: var(--fill-color);\n",
              "    }\n",
              "    60% {\n",
              "      border-color: transparent;\n",
              "      border-right-color: var(--fill-color);\n",
              "    }\n",
              "    80% {\n",
              "      border-color: transparent;\n",
              "      border-right-color: var(--fill-color);\n",
              "      border-bottom-color: var(--fill-color);\n",
              "    }\n",
              "    90% {\n",
              "      border-color: transparent;\n",
              "      border-bottom-color: var(--fill-color);\n",
              "    }\n",
              "  }\n",
              "</style>\n",
              "\n",
              "  <script>\n",
              "    async function quickchart(key) {\n",
              "      const quickchartButtonEl =\n",
              "        document.querySelector('#' + key + ' button');\n",
              "      quickchartButtonEl.disabled = true;  // To prevent multiple clicks.\n",
              "      quickchartButtonEl.classList.add('colab-df-spinner');\n",
              "      try {\n",
              "        const charts = await google.colab.kernel.invokeFunction(\n",
              "            'suggestCharts', [key], {});\n",
              "      } catch (error) {\n",
              "        console.error('Error during call to suggestCharts:', error);\n",
              "      }\n",
              "      quickchartButtonEl.classList.remove('colab-df-spinner');\n",
              "      quickchartButtonEl.classList.add('colab-df-quickchart-complete');\n",
              "    }\n",
              "    (() => {\n",
              "      let quickchartButtonEl =\n",
              "        document.querySelector('#df-3831f7c3-4dd4-4869-8cbf-e48800035a7f button');\n",
              "      quickchartButtonEl.style.display =\n",
              "        google.colab.kernel.accessAllowed ? 'block' : 'none';\n",
              "    })();\n",
              "  </script>\n",
              "</div>\n",
              "\n",
              "  <div id=\"id_4a3248ce-793c-4d3a-9612-973f0ab5b054\">\n",
              "    <style>\n",
              "      .colab-df-generate {\n",
              "        background-color: #E8F0FE;\n",
              "        border: none;\n",
              "        border-radius: 50%;\n",
              "        cursor: pointer;\n",
              "        display: none;\n",
              "        fill: #1967D2;\n",
              "        height: 32px;\n",
              "        padding: 0 0 0 0;\n",
              "        width: 32px;\n",
              "      }\n",
              "\n",
              "      .colab-df-generate:hover {\n",
              "        background-color: #E2EBFA;\n",
              "        box-shadow: 0px 1px 2px rgba(60, 64, 67, 0.3), 0px 1px 3px 1px rgba(60, 64, 67, 0.15);\n",
              "        fill: #174EA6;\n",
              "      }\n",
              "\n",
              "      [theme=dark] .colab-df-generate {\n",
              "        background-color: #3B4455;\n",
              "        fill: #D2E3FC;\n",
              "      }\n",
              "\n",
              "      [theme=dark] .colab-df-generate:hover {\n",
              "        background-color: #434B5C;\n",
              "        box-shadow: 0px 1px 3px 1px rgba(0, 0, 0, 0.15);\n",
              "        filter: drop-shadow(0px 1px 2px rgba(0, 0, 0, 0.3));\n",
              "        fill: #FFFFFF;\n",
              "      }\n",
              "    </style>\n",
              "    <button class=\"colab-df-generate\" onclick=\"generateWithVariable('df_reviews')\"\n",
              "            title=\"Generate code using this dataframe.\"\n",
              "            style=\"display:none;\">\n",
              "\n",
              "  <svg xmlns=\"http://www.w3.org/2000/svg\" height=\"24px\"viewBox=\"0 0 24 24\"\n",
              "       width=\"24px\">\n",
              "    <path d=\"M7,19H8.4L18.45,9,17,7.55,7,17.6ZM5,21V16.75L18.45,3.32a2,2,0,0,1,2.83,0l1.4,1.43a1.91,1.91,0,0,1,.58,1.4,1.91,1.91,0,0,1-.58,1.4L9.25,21ZM18.45,9,17,7.55Zm-12,3A5.31,5.31,0,0,0,4.9,8.1,5.31,5.31,0,0,0,1,6.5,5.31,5.31,0,0,0,4.9,4.9,5.31,5.31,0,0,0,6.5,1,5.31,5.31,0,0,0,8.1,4.9,5.31,5.31,0,0,0,12,6.5,5.46,5.46,0,0,0,6.5,12Z\"/>\n",
              "  </svg>\n",
              "    </button>\n",
              "    <script>\n",
              "      (() => {\n",
              "      const buttonEl =\n",
              "        document.querySelector('#id_4a3248ce-793c-4d3a-9612-973f0ab5b054 button.colab-df-generate');\n",
              "      buttonEl.style.display =\n",
              "        google.colab.kernel.accessAllowed ? 'block' : 'none';\n",
              "\n",
              "      buttonEl.onclick = () => {\n",
              "        google.colab.notebook.generateWithVariable('df_reviews');\n",
              "      }\n",
              "      })();\n",
              "    </script>\n",
              "  </div>\n",
              "\n",
              "    </div>\n",
              "  </div>\n"
            ],
            "application/vnd.google.colaboratory.intrinsic+json": {
              "type": "dataframe",
              "variable_name": "df_reviews",
              "summary": "{\n  \"name\": \"df_reviews\",\n  \"rows\": 2000,\n  \"fields\": [\n    {\n      \"column\": \"reviews\",\n      \"properties\": {\n        \"dtype\": \"string\",\n        \"num_unique_values\": 2000,\n        \"samples\": [\n          \"apollo 13 is simply one of the most dramatic film this summer ( apart from swashbuckling braveheart ) . \\ndirector ( and former actor ) ron howard ( splash , backdraft , far & away ) , most noted for his dramatic film making , displays again his brilliance in creating drama and suspense in apollo 13 . \\nbeing the second largest box office hit in the us this summer ( with more than us$150 million in the states alone ) , this film is his most successful effort yet . \\nperhaps one of the most appealing feature of this film is the pool of talented actors such as tom hanks ( gump himself ) , kevin bacon ( footloose , tremors , a few good men etc . ) , gary sinise ( forrest gump ) , bill paxton ( aliens , true lies , boxing helena ) and ed harris ( the abyss , just cause ) . . \\nall of whom gave good performances in their respective roles . \\napollo 13 was the second worst accident ever to occur in the history of us spaceflight ( the worst being the challenger accident ) . \\njim lovell ( hanks ) , the mission commander , together with his crew , fred haise ( paxton ) and last minute replacement tom swigert ( bacon ) are put to the ultimate test when part of their command module explodes on the third day of the mission , more than three quarters way to the moon . \\nsuspense and drama ensue as the three men are left in space with their spaceship out of control and the problem of surviving the journey home . . . \\nif they ever reach it . \\ned harris and gary sinise who play , respectively , the man in charge of the entire mission control and the astronaut who was supposed to fly but was diagnosed with measles , both delve into their roles superbly . \\naudiences are shown the chaotic and worrisome state of the entire ground control crew , as they frantically attempt to come up with ideas on how to save the astronauts from hurtling into space . \\nalso , there are quite a number of real news footages which were broadcast during the accident which took the entire us nation into 5 days of drama in 1970 . \\nthe special effects by digital domain are up to standard and the music suits the suspense and drama very well , thanks to film-music maestro james horner . \\nwatch out for the launching sequence , it is simply one of the most breathtaking scenes of the film . \\na bad point though : apollo 13 features much technical jargon and many physics concepts in its script . \\nthose who consider themselves `scientifically illiterate' might have a slight problem understanding what caused this and what caused that during the course of the show . \\nthis is however , just a minor point , just forget all those technical bullshit and immerse yourselves into the drama and suspense throughout the film . \\nyou should enjoy it . \\n\",\n          \"_dirty_work_ has a premise of deliciously mean-spirited potential . \\nmitch weaver ( norm macdonald ) and his lifelong best friend sam mckenna ( artie lange ) are losers in life : they were constantly picked on in school , and now they cannot hold regular jobs . \\nbut as the trailer goes , \\\" there is one thing mitch weaver is good at--revenge . \\\" \\nso he and sam parlay their unmatched skill in getting-even schemes into a marketable revenge-for-hire business called dirty work inc . \\nthis should be the groundwork for a wonderfully wicked black comedy , but for a film called _dirty_work_ , what ensues is rather clean of spirit . \\nin fact , what makes mitch and sam start up their business is not a giddy desire to give bullies a taste of their own medicine , but rather a more sappy reason : sam's father ( jack warden ) needs a heart transplant , and in order for him to move at the top of the recipient list , his compulsively betting doctor ( chevy chase ) asks the guys for $50 , 000 to pay off his bookie . \\nso for all the scheming that goes on , beneath every underhanded plot is--gasp ! --a \\nheart , which undercuts the inherent nastiness of the premise . \\nnot that there isn't a lot of nastiness on display--there is , but of a different sort . \\nthere are frequent sexual references , most prominently in the form of prostitutes and sam's impotent father's ongoing lust for them . \\nand for a film rated pg-13 , director bob saget ( yes , that bob saget , of _full_house_ and _america's_funniest_home_videos_ fame ) and writers frank sebastiano , fred wolf , and macdonald himself , stretch the boundaries of good taste rather far--arguably a bit too much so ( was not one , but two separate instances of sodomy between animals really necessary ? ) . \\nbut the issue , of course , is not so much of taste as it is humor--as in , is it funny or not ? \\nthe answer is a resounding no . \\nit's not that macdonald isn't a funny guy . \\nhe was one of the more consistently funny performers on _saturday_night_live_ before his much-talked-about firing , and his dry brand of smartass wit translates well to the big screen ; it also doesn't hurt that he's a natural , likable screen presence . \\nhe is able to give some of his lines a nice acid touch , but , for the most part , the oneliners , as written , are flat , and the broad slapstick gags just don't work ( one running gag has him being literally tossed out of buildings--a real riot ) . \\nstill , macdonald's few shining moments are just about the only moments the film has . \\nthe late chris farley , as hysterical as he ever was , is amusing in a cameo role , but , as a whole , the supporting players are amateurish and seemingly free from any directorial guidance . \\nsaget tries to juice up the proceedings with kitschy cameos by gary coleman , adam sandler , and john goodman , but their minimal novelty value cannot prevent _dirty_work_ from sputtering to the end of its brief 81-minute running time . \\nthe film closes on a sad note of desperation , an indulgent reel of outtakes from which only those involved in the production would derive any amusement . \\ncome to think of it , i cannot imagine anyone but those involved in the production to find much amusement in the entirety of _dirty_work_ . \\n\",\n          \"while it was part of former yugoslavia , my country , croatia , used to be almost completely ignored by western films in general . \\nwords \\\" croatia \\\" and \\\" croatians \\\" were unheard , even in movies whose plots actually took place on croatian locations . \\nthe rare exception was the dogs of war , 1980 adaptation of frederick forsyth's bestselling novel , yet that rare occasion only added insult to the injury , by mentioning croatians in most unflattering context . \\nin a single line they are referred as a bunch of mean people , probably terrorists , who happen to remove parts of arm dealers' stomachs when they are unsatisfied with the quality of merchandise . \\nsame line also illustrates the milieu where the movie takes place - dark and violent world of shady international deals with the blurred boundaries between business , politics and crime . \\nthe movie protagonist , shannon ( christopher walken ) is a mercenary who spent the best years of his life fighting numerous little wars all over the globe . \\nhis latest job is a intelligence mission for powerful mining corporation that demands information about political climate in west african nation of zangaro . \\nshannon arrives in that country only to find oppressive regime of president kimba , bloodthirsty madman whose brutality crushed any opposition and scared almost any westerners away . \\nafter being arrested and tortured by kimba's secret police , shannon leaves country with a help of british journalist north ( colin blakely ) . \\nupon return , he is approached by mining company again , but this time they want him to plan and execute the coup d'etat against kimba . \\nshannon reluctantly agrees and assembles small group of his surviving mercenary friends who begin meticulous preparation for another small war . \\nthing that separates the dogs of war from conventional action movies , especially those made in 1980s , is its authenticity , almost close to documentary . \\nit shouldn't surprise anyone , because the author of the novel , frederick forsyth , made reputation by blending fiction with real life , thus creating interesting , exciting yet very believable plots for his books . \\nthose plots were also responsible for few very successful 1970s thrillers , and one of them , zinnemman's the day of the jackal , is now considered a classic in that genre . \\nthis one deals with soldiers of fortune , ancient tradition that was resurrected in great turmoil of 1960s and 1970s and filled the void left by vanishing colonial empires . \\nunlike wild geese , that used it as a pretext for conventional action adventure , script by george malko and gary de vore ( author whose death last year became real life mystery ) is serious , and instead of action puts emphasis on characters and prosaic details of their work . \\nthe movie doesn't try to romanticise the mercenary profession nor glorify mercenaries as some kind of superheroes ; they are simply shown as deadly yet expendable tool of powerful forces with questionable agenda . \\nchristopher walken played in many movies , yet very rarely we can see him in a leading role . \\nhis performance in this film perhaps isn't breathtaking , yet adequate . \\nhis notoriously expressionless face is perfect illustration of the disillusioned , world- weary man whose alienation from the \\\" normal \\\" way of life becomes complete and only remaining ideal is loyalty to the shrinking circle of friends . \\nalthough the movie doesn't lack capable actors , their roles are miniature compared with walken's , and only colin blakely as cynical reporter has opportunity to portray his character . \\nhowever , those who look familiar faces would find them plenty in the dogs of war - tom berenger , paul freeman , jo beth williams , victoria tennant ( in brief cameo ) , and biggest surprise is ed o'neill ( of married with children fame ) as shannon's reluctant colleague . \\nthis was the first major production for john irvin , and it shows why he earned the reputation of capable , yet second class director . \\nwith the good script he can make very good movie , with the bad script he can make real mess . \\nluckily , the dogs of war had a good script . \\nirvin's direction was very ascetic and it gave the movie almost documentary feel . \\nthe only distraction is dramatic music of geoffrey burgon , used on the wrong places . \\nin the final battle scene , where we can see mercenaries at work , irvin shows us that modern warfare means superior firepower and tactics , unlike 1980s ramboesque fantasies that rely on macho superheroes . \\nunfortunately , by making battle realistic irvin made it somewhat less attractive and his sloppy editing also didn't help . \\nbut , despite those shortcomings , this movie remains interesting and rare combination of action thriller and gritty , realistic political drama . \\n\"\n        ],\n        \"semantic_type\": \"\",\n        \"description\": \"\"\n      }\n    },\n    {\n      \"column\": \"encoded_labels\",\n      \"properties\": {\n        \"dtype\": \"number\",\n        \"std\": 0,\n        \"min\": 0,\n        \"max\": 1,\n        \"num_unique_values\": 2,\n        \"samples\": [\n          1,\n          0\n        ],\n        \"semantic_type\": \"\",\n        \"description\": \"\"\n      }\n    }\n  ]\n}"
            }
          },
          "metadata": {},
          "execution_count": 6
        }
      ],
      "source": [
        "import pandas as pd\n",
        "\n",
        "df_reviews = pd.DataFrame({'reviews': reviews, 'encoded_labels': encoded_labels})\n",
        "df_reviews"
      ]
    },
    {
      "cell_type": "markdown",
      "metadata": {
        "id": "KxfXyBDNX_Lb"
      },
      "source": [
        "### 2. TEXT PRE-PROCESSING"
      ]
    },
    {
      "cell_type": "code",
      "execution_count": null,
      "metadata": {
        "id": "oBJi5StkX_Lc"
      },
      "outputs": [],
      "source": [
        "from string import punctuation\n",
        "import re\n",
        "\n",
        "word_re = re.compile(r\"\\b[a-z]{2,}\\b\")\n",
        "\n",
        "def tokenize(text):\n",
        "    processed_text = \"\".join(ch for ch in text.lower() if ch not in punctuation)\n",
        "    processed_text = processed_text.replace(\"\\n\", \" \")\n",
        "    return word_re.findall(processed_text)\n",
        "\n",
        "def flatten(tokenized_texts):\n",
        "    return [word for text in tokenized_texts for word in text]"
      ]
    },
    {
      "cell_type": "code",
      "execution_count": null,
      "metadata": {
        "colab": {
          "base_uri": "https://localhost:8080/",
          "height": 458
        },
        "id": "udapnCpIX_Ld",
        "outputId": "7b3493d2-7747-4ccc-bed0-ba204b3ee57b"
      },
      "outputs": [
        {
          "output_type": "execute_result",
          "data": {
            "text/plain": [
              "0                  arnold\n",
              "1          schwarzenegger\n",
              "2                     has\n",
              "3                    been\n",
              "4                      an\n",
              "                ...      \n",
              "1239602                go\n",
              "1239603             about\n",
              "1239604           getting\n",
              "1239605               the\n",
              "1239606             dough\n",
              "Length: 1239607, dtype: object"
            ],
            "text/html": [
              "<div>\n",
              "<style scoped>\n",
              "    .dataframe tbody tr th:only-of-type {\n",
              "        vertical-align: middle;\n",
              "    }\n",
              "\n",
              "    .dataframe tbody tr th {\n",
              "        vertical-align: top;\n",
              "    }\n",
              "\n",
              "    .dataframe thead th {\n",
              "        text-align: right;\n",
              "    }\n",
              "</style>\n",
              "<table border=\"1\" class=\"dataframe\">\n",
              "  <thead>\n",
              "    <tr style=\"text-align: right;\">\n",
              "      <th></th>\n",
              "      <th>0</th>\n",
              "    </tr>\n",
              "  </thead>\n",
              "  <tbody>\n",
              "    <tr>\n",
              "      <th>0</th>\n",
              "      <td>arnold</td>\n",
              "    </tr>\n",
              "    <tr>\n",
              "      <th>1</th>\n",
              "      <td>schwarzenegger</td>\n",
              "    </tr>\n",
              "    <tr>\n",
              "      <th>2</th>\n",
              "      <td>has</td>\n",
              "    </tr>\n",
              "    <tr>\n",
              "      <th>3</th>\n",
              "      <td>been</td>\n",
              "    </tr>\n",
              "    <tr>\n",
              "      <th>4</th>\n",
              "      <td>an</td>\n",
              "    </tr>\n",
              "    <tr>\n",
              "      <th>...</th>\n",
              "      <td>...</td>\n",
              "    </tr>\n",
              "    <tr>\n",
              "      <th>1239602</th>\n",
              "      <td>go</td>\n",
              "    </tr>\n",
              "    <tr>\n",
              "      <th>1239603</th>\n",
              "      <td>about</td>\n",
              "    </tr>\n",
              "    <tr>\n",
              "      <th>1239604</th>\n",
              "      <td>getting</td>\n",
              "    </tr>\n",
              "    <tr>\n",
              "      <th>1239605</th>\n",
              "      <td>the</td>\n",
              "    </tr>\n",
              "    <tr>\n",
              "      <th>1239606</th>\n",
              "      <td>dough</td>\n",
              "    </tr>\n",
              "  </tbody>\n",
              "</table>\n",
              "<p>1239607 rows × 1 columns</p>\n",
              "</div><br><label><b>dtype:</b> object</label>"
            ]
          },
          "metadata": {},
          "execution_count": 8
        }
      ],
      "source": [
        "all_reviews = df_reviews['reviews'].apply(tokenize)\n",
        "all_words = pd.Series(flatten(all_reviews))\n",
        "all_words"
      ]
    },
    {
      "cell_type": "markdown",
      "metadata": {
        "id": "MMIOAA53X_Ld"
      },
      "source": [
        "### 3. CREATE DICTIONARIES & ENCODE REVIEWS"
      ]
    },
    {
      "cell_type": "code",
      "source": [
        "import gensim.downloader as api\n",
        "import pandas as pd\n",
        "\n",
        "pd.DataFrame(api.info()['models']).head().T;"
      ],
      "metadata": {
        "id": "yT0ogJ-UyBhv"
      },
      "execution_count": null,
      "outputs": []
    },
    {
      "cell_type": "code",
      "source": [
        "embed_size = 100\n",
        "wv = api.load(f'glove-wiki-gigaword-{embed_size}')"
      ],
      "metadata": {
        "id": "X4b2nOr1yj6a",
        "colab": {
          "base_uri": "https://localhost:8080/"
        },
        "outputId": "eda99491-5643-4902-c71c-ca0039b55d4d"
      },
      "execution_count": null,
      "outputs": [
        {
          "output_type": "stream",
          "name": "stdout",
          "text": [
            "[==================================================] 100.0% 128.1/128.1MB downloaded\n"
          ]
        }
      ]
    },
    {
      "cell_type": "code",
      "execution_count": null,
      "metadata": {
        "id": "pmqcGzAsiVn6"
      },
      "outputs": [],
      "source": [
        "# word_counts = all_words.value_counts()\n",
        "# word_ids = range(1, word_counts.size+1)\n",
        "# int_to_vocab = pd.Series(word_counts.index, index=word_ids)\n",
        "# vocab_to_int = pd.Series(word_ids, index=word_counts.index)\n",
        "# encoded_reviews = all_reviews.apply(lambda x: vocab_to_int[x].values)\n",
        "# encoded_reviews"
      ]
    },
    {
      "cell_type": "code",
      "source": [
        "vocab = pd.Series(wv.key_to_index) + 1\n",
        "encoded_reviews = all_reviews.apply(lambda x: [vocab.get(w, 0) for w in x])\n",
        "encoded_reviews"
      ],
      "metadata": {
        "colab": {
          "base_uri": "https://localhost:8080/",
          "height": 458
        },
        "id": "yNuPb3Ozz797",
        "outputId": "1f9f28fa-5c9e-4f86-fd0a-dc1d81f1cd54"
      },
      "execution_count": null,
      "outputs": [
        {
          "output_type": "execute_result",
          "data": {
            "text/plain": [
              "0       [5819, 6681, 32, 52, 30, 7884, 11, 609, 14345,...\n",
              "1       [220, 1589, 33, 606, 5, 597, 159, 250, 354, 15...\n",
              "2       [32011, 1570, 20, 301, 39, 32, 493, 61, 1, 0, ...\n",
              "3       [54, 95, 43505, 7085, 0, 1396, 7, 2293, 5837, ...\n",
              "4       [113936, 15, 49, 4, 1, 8570, 1589, 79290, 542,...\n",
              "                              ...                        \n",
              "1995    [125, 131, 69, 3499, 55, 37, 31, 5641, 1, 1946...\n",
              "1996    [3966, 398596, 28899, 4810, 1382, 7, 1, 2094, ...\n",
              "1997    [301, 15, 37, 301, 297, 503, 172508, 4, 765, 3...\n",
              "1998    [38, 15, 320, 13, 16, 11730, 5, 118, 23, 1, 14...\n",
              "1999    [131, 11169, 4, 30, 6257, 13291, 320, 15, 23, ...\n",
              "Name: reviews, Length: 2000, dtype: object"
            ],
            "text/html": [
              "<div>\n",
              "<style scoped>\n",
              "    .dataframe tbody tr th:only-of-type {\n",
              "        vertical-align: middle;\n",
              "    }\n",
              "\n",
              "    .dataframe tbody tr th {\n",
              "        vertical-align: top;\n",
              "    }\n",
              "\n",
              "    .dataframe thead th {\n",
              "        text-align: right;\n",
              "    }\n",
              "</style>\n",
              "<table border=\"1\" class=\"dataframe\">\n",
              "  <thead>\n",
              "    <tr style=\"text-align: right;\">\n",
              "      <th></th>\n",
              "      <th>reviews</th>\n",
              "    </tr>\n",
              "  </thead>\n",
              "  <tbody>\n",
              "    <tr>\n",
              "      <th>0</th>\n",
              "      <td>[5819, 6681, 32, 52, 30, 7884, 11, 609, 14345,...</td>\n",
              "    </tr>\n",
              "    <tr>\n",
              "      <th>1</th>\n",
              "      <td>[220, 1589, 33, 606, 5, 597, 159, 250, 354, 15...</td>\n",
              "    </tr>\n",
              "    <tr>\n",
              "      <th>2</th>\n",
              "      <td>[32011, 1570, 20, 301, 39, 32, 493, 61, 1, 0, ...</td>\n",
              "    </tr>\n",
              "    <tr>\n",
              "      <th>3</th>\n",
              "      <td>[54, 95, 43505, 7085, 0, 1396, 7, 2293, 5837, ...</td>\n",
              "    </tr>\n",
              "    <tr>\n",
              "      <th>4</th>\n",
              "      <td>[113936, 15, 49, 4, 1, 8570, 1589, 79290, 542,...</td>\n",
              "    </tr>\n",
              "    <tr>\n",
              "      <th>...</th>\n",
              "      <td>...</td>\n",
              "    </tr>\n",
              "    <tr>\n",
              "      <th>1995</th>\n",
              "      <td>[125, 131, 69, 3499, 55, 37, 31, 5641, 1, 1946...</td>\n",
              "    </tr>\n",
              "    <tr>\n",
              "      <th>1996</th>\n",
              "      <td>[3966, 398596, 28899, 4810, 1382, 7, 1, 2094, ...</td>\n",
              "    </tr>\n",
              "    <tr>\n",
              "      <th>1997</th>\n",
              "      <td>[301, 15, 37, 301, 297, 503, 172508, 4, 765, 3...</td>\n",
              "    </tr>\n",
              "    <tr>\n",
              "      <th>1998</th>\n",
              "      <td>[38, 15, 320, 13, 16, 11730, 5, 118, 23, 1, 14...</td>\n",
              "    </tr>\n",
              "    <tr>\n",
              "      <th>1999</th>\n",
              "      <td>[131, 11169, 4, 30, 6257, 13291, 320, 15, 23, ...</td>\n",
              "    </tr>\n",
              "  </tbody>\n",
              "</table>\n",
              "<p>2000 rows × 1 columns</p>\n",
              "</div><br><label><b>dtype:</b> object</label>"
            ]
          },
          "metadata": {},
          "execution_count": 11
        }
      ]
    },
    {
      "cell_type": "code",
      "execution_count": null,
      "metadata": {
        "id": "z39ExWoBX_Le"
      },
      "outputs": [],
      "source": [
        "# from collections import Counter\n",
        "\n",
        "# word_counts = Counter(all_words)\n",
        "# word_list = sorted(word_counts, key=lambda k: word_counts[k], reverse = True)\n",
        "# vocab_to_int = {word:idx+1 for idx, word in enumerate(word_list)}\n",
        "# int_to_vocab = {idx:word for word, idx in vocab_to_int.items()}\n",
        "# encoded_reviews = all_reviews.apply(lambda x: vocab_to_int[x].values)\n",
        "# # encoded_reviews = [[vocab_to_int[word] for word in review] for review in all_reviews]"
      ]
    },
    {
      "cell_type": "markdown",
      "metadata": {
        "id": "Ry9LlELrX_Lf"
      },
      "source": [
        "### 6. MAKE ALL REVIEWS SAME LENGTH"
      ]
    },
    {
      "cell_type": "code",
      "execution_count": null,
      "metadata": {
        "id": "WMjIIrgLX_Lf"
      },
      "outputs": [],
      "source": [
        "import numpy as np\n",
        "import torch\n",
        "\n",
        "# encoded_labels = np.array( [label for idx, label in enumerate(encoded_labels) if len(encoded_reviews[idx]) > 0] )\n",
        "# encoded_reviews = [review for review in encoded_reviews if len(review) > 0]"
      ]
    },
    {
      "cell_type": "code",
      "source": [
        "def pad_review(encoded_reviews, seq_length=200):\n",
        "    review = encoded_reviews[:seq_length]\n",
        "    padded_review = np.zeros(seq_length, dtype=int)\n",
        "    padded_review[-len(review):] = review\n",
        "    return padded_review\n",
        "\n",
        "padded_reviews = np.stack(encoded_reviews.apply(pad_review, seq_length=200))\n",
        "padded_reviews"
      ],
      "metadata": {
        "colab": {
          "base_uri": "https://localhost:8080/"
        },
        "id": "JTnZJh45sMGp",
        "outputId": "8c94a9e8-ae39-4131-d9e6-fa987a2c8f24"
      },
      "execution_count": null,
      "outputs": [
        {
          "output_type": "execute_result",
          "data": {
            "text/plain": [
              "array([[ 5819,  6681,    32, ...,  1006,    21,   121],\n",
              "       [  220,  1589,    33, ...,    49,    44,  1066],\n",
              "       [32011,  1570,    20, ...,   908,  1696,  3645],\n",
              "       ...,\n",
              "       [  301,    15,    37, ...,     4,  5093,  7017],\n",
              "       [   38,    15,   320, ...,     1,  2470,    11],\n",
              "       [  131, 11169,     4, ...,     4, 12570,    11]])"
            ]
          },
          "metadata": {},
          "execution_count": 13
        }
      ]
    },
    {
      "cell_type": "code",
      "execution_count": null,
      "metadata": {
        "id": "mVh8EoFaX_Lf"
      },
      "outputs": [],
      "source": [
        "# def pad_text(encoded_reviews, seq_length):\n",
        "\n",
        "#     reviews = []\n",
        "\n",
        "#     for review in encoded_reviews:\n",
        "#         if len(review) >= seq_length:\n",
        "#             reviews.append(review[:seq_length])\n",
        "#         else:\n",
        "#             reviews.append([0] * (seq_length - len(review)) + review)\n",
        "\n",
        "#     return np.array(reviews)\n",
        "\n",
        "# padded_reviews = pad_text(encoded_reviews, seq_length=200)"
      ]
    },
    {
      "cell_type": "code",
      "source": [
        "def pad_batch(batch, seq_length=200):\n",
        "    max_len = max(map(len, batch))\n",
        "    seq_length = min(seq_length, max_len)\n",
        "    padded_batch = [pad_review(review, seq_length=seq_length) for review in batch]\n",
        "    return padded_batch"
      ],
      "metadata": {
        "id": "7bFPwZ6vyJWQ"
      },
      "execution_count": null,
      "outputs": []
    },
    {
      "cell_type": "markdown",
      "metadata": {
        "id": "JbVKKJArh8VP"
      },
      "source": [
        "\n",
        "```\n",
        "[0 0 1 1 1 1 2 2 2]\n",
        "[0 1 1 1 1 1 2 2 2]\n",
        "[1 1 1 1 1 1 2 2 2]\n",
        "[0 0 1]\n",
        "[0 1 2]\n",
        "[2 3 4]\n",
        "[0 0 1 1 1 1]\n",
        "[0 1 1 1 1 1]\n",
        "[1 1 1 1 1 1]\n",
        "```\n",
        "\n"
      ]
    },
    {
      "cell_type": "markdown",
      "metadata": {
        "id": "JTyqcjt7X_Lg"
      },
      "source": [
        "### 7. SPLIT DATA & GET (REVIEW, LABEL) DATALOADER"
      ]
    },
    {
      "cell_type": "code",
      "execution_count": null,
      "metadata": {
        "id": "e19t8p9BX_Lg"
      },
      "outputs": [],
      "source": [
        "train_ratio = 0.8\n",
        "valid_ratio = (1 - train_ratio)/2\n",
        "total = padded_reviews.shape[0]\n",
        "train_cutoff = int(total * train_ratio)\n",
        "valid_cutoff = int(total * (1 - valid_ratio))\n",
        "\n",
        "train_x, train_y = torch.from_numpy(padded_reviews[:train_cutoff]), torch.from_numpy(encoded_labels[:train_cutoff])\n",
        "valid_x, valid_y = torch.from_numpy(padded_reviews[train_cutoff:valid_cutoff]), torch.from_numpy(encoded_labels[train_cutoff:valid_cutoff])\n",
        "test_x, test_y = torch.from_numpy(padded_reviews[valid_cutoff:]), torch.from_numpy(encoded_labels[valid_cutoff:])\n",
        "\n",
        "from torch.utils.data import TensorDataset, DataLoader\n",
        "\n",
        "train_data = TensorDataset(train_x, train_y)\n",
        "valid_data = TensorDataset(valid_x, valid_y)\n",
        "test_data = TensorDataset(test_x, test_y)\n",
        "\n",
        "BATCH_SIZE = 250\n",
        "train_loader = DataLoader(train_data, batch_size = BATCH_SIZE, shuffle = True)\n",
        "valid_loader = DataLoader(valid_data, batch_size = BATCH_SIZE, shuffle = True)\n",
        "test_loader = DataLoader(test_data, batch_size = BATCH_SIZE, shuffle = True)"
      ]
    },
    {
      "cell_type": "markdown",
      "metadata": {
        "id": "QVmejKwSX_Lh"
      },
      "source": [
        "### 8. DEFINE THE LSTM MODEL"
      ]
    },
    {
      "cell_type": "markdown",
      "metadata": {
        "id": "-IBwlUylX_Li"
      },
      "source": [
        "During the model definition step, we might re-implement model weight initialisation, apply another tricks such as adding various types of dropout to the needed layers etc. There is a noteworthy [discussion](https://stackoverflow.com/questions/49433936/how-to-initialize-weights-in-pytorch) on wheather one should initialize weights manually or not, and, if yes, how? The functions that implement various initialisation methods are located in the `torch.nn.init` module."
      ]
    },
    {
      "cell_type": "markdown",
      "source": [
        "![image.png](data:image/png;base64,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)"
      ],
      "metadata": {
        "id": "CXR3veqVKmtd"
      }
    },
    {
      "cell_type": "code",
      "source": [
        "import torch\n",
        "import torch.nn as nn\n",
        "import torch.nn.functional as F\n",
        "import torch.optim as optim"
      ],
      "metadata": {
        "id": "JG25EpCgciec"
      },
      "execution_count": null,
      "outputs": []
    },
    {
      "cell_type": "code",
      "source": [
        "class RNN(nn.Module):\n",
        "    def __init__(self, input_size, hidden_size):\n",
        "        super().__init__()\n",
        "        self.hidden_size = hidden_size\n",
        "        self.i_linear = nn.Linear(input_size, hidden_size)\n",
        "        self.h_linear = nn.Linear(hidden_size, hidden_size)\n",
        "\n",
        "    def forward(self, x, hidden=None):\n",
        "        if hidden is None:\n",
        "            hidden = self.init_hidden()\n",
        "        for elem in x:\n",
        "            hidden = torch.tanh(self.i_linear(elem) + self.h_linear(hidden))\n",
        "        return hidden\n",
        "\n",
        "    def init_hidden(self):\n",
        "        return nn.init.kaiming_uniform_(torch.empty(1, self.hidden_size))"
      ],
      "metadata": {
        "id": "UbkpYRhgQv3R"
      },
      "execution_count": null,
      "outputs": []
    },
    {
      "cell_type": "markdown",
      "source": [
        "![image.png](data:image/png;base64,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)"
      ],
      "metadata": {
        "id": "U2oNvyVdXKUF"
      }
    },
    {
      "cell_type": "code",
      "source": [
        "# torch.cat\n",
        "wv_torch = torch.from_numpy(wv.vectors)\n",
        "pad = torch.zeros((1, wv_torch.shape[1]))\n",
        "wv_torch_with_pad = torch.cat((pad, wv_torch), dim=0)"
      ],
      "metadata": {
        "id": "yz4HIW301Fan"
      },
      "execution_count": null,
      "outputs": []
    },
    {
      "cell_type": "code",
      "source": [
        "# class LinearModel(nn.Module):\n",
        "#     def __init__(self, embed_size=embed_size, hidden_size=128, n_classes=4):\n",
        "#         super().__init__()\n",
        "#         self.emb = nn.Embedding.from_pretrained(wv_torch_with_pad)\n",
        "#         self.linear = nn.Linear(embed_size, hidden_size)\n",
        "#         self.rnn = RNN(embed_size, hidden_size)\n",
        "#         self.clf = nn.Linear(hidden_size, n_classes)\n",
        "#         self.softmax = nn.Softmax()\n",
        "\n",
        "#     def forward(self, x):\n",
        "#         x = self.emb(x)\n",
        "#         x = self.rnn(x)\n",
        "#         x = self.clf(x)\n",
        "#         output = self.softmax(x)\n",
        "#         return output"
      ],
      "metadata": {
        "id": "DoICEz7ClmRq"
      },
      "execution_count": null,
      "outputs": []
    },
    {
      "cell_type": "code",
      "execution_count": null,
      "metadata": {
        "id": "TbMYRxKmX_Lj"
      },
      "outputs": [],
      "source": [
        "class SentimentLSTM(nn.Module):\n",
        "\n",
        "    def __init__(self, n_vocab, n_embed, n_hidden, n_output, n_layers, drop_p = 0.3):\n",
        "        super().__init__()\n",
        "        # params: \"n_\" means dimension\n",
        "\n",
        "        self.n_vocab = n_vocab     # number of unique words in vocabulary\n",
        "        self.n_layers = n_layers   # number of LSTM layers\n",
        "        self.n_hidden = n_hidden   # number of hidden nodes in LSTM\n",
        "\n",
        "        self.embedding = nn.Embedding.from_pretrained(wv_torch_with_pad)\n",
        "        # self.embedding = nn.Embedding(n_vocab, n_embed)\n",
        "        self.lstm = nn.LSTM(n_embed, n_hidden, n_layers, batch_first = True, dropout = drop_p)\n",
        "        self.fc = nn.Linear(n_hidden, n_output)\n",
        "        self.dropout = nn.Dropout(drop_p) # this layer is designed to turn any neuron off with probability drop_p\n",
        "        self.sigmoid = nn.Sigmoid()\n",
        "        self.__init_linear()\n",
        "\n",
        "\n",
        "    def forward (self, input_words, hidden_state=None):      # INPUT   :  (batch_size, seq_length)\n",
        "        # embedded_words = self.embedding(input_words)    # (batch_size, seq_length, n_embed)\n",
        "        # lstm_out, h = self.lstm(embedded_words, hidden_state) # (batch_size, seq_length, n_hidden)\n",
        "        # lstm_out = self.dropout(lstm_out)\n",
        "        # lstm_out = lstm_out.contiguous().view(-1, self.n_hidden) # (batch_size*seq_length, n_hidden)\n",
        "        # fc_out = self.fc(lstm_out)                      # (batch_size*seq_length, n_output)\n",
        "        # sigmoid_out = self.sigmoid(fc_out)              # (batch_size*seq_length, n_output)\n",
        "        # sigmoid_out = sigmoid_out.view(input_words.shape[0], -1)  # (batch_size, seq_length*n_output)\n",
        "\n",
        "        # # extract the output of ONLY the LAST output of the LAST element of the sequence\n",
        "        # sigmoid_last = sigmoid_out[:, -1]               # (batch_size, 1)\n",
        "\n",
        "        # return sigmoid_last, h\n",
        "\n",
        "        h = (\n",
        "            nn.init.kaiming_uniform_(torch.empty(self.n_layers, input_words.shape[0], self.n_hidden)).to(input_words.device),\n",
        "            nn.init.kaiming_uniform_(torch.empty(self.n_layers, input_words.shape[0], self.n_hidden)).to(input_words.device),\n",
        "            )\n",
        "        x = self.embedding(input_words)\n",
        "        x, _ = self.lstm(x, h)\n",
        "        x = x[:, -1, :]\n",
        "        x = self.fc(x)\n",
        "        x = self.sigmoid(x)\n",
        "        return x\n",
        "\n",
        "    def __init_linear(self):\n",
        "        self.fc.weight.data.normal_(0.0, 1/np.sqrt(self.n_hidden))\n",
        "        self.fc.bias.data.fill_(0)\n",
        "\n",
        "\n",
        "    def init_hidden (self, batch_size):  # initialize hidden weights (h,c) to 0\n",
        "\n",
        "        device = torch.device(\"cuda\" if torch.cuda.is_available() else \"cpu\")\n",
        "        weights = next(self.parameters()).data\n",
        "        h = (weights.new(self.n_layers, batch_size, self.n_hidden).zero_().to(device),\n",
        "             weights.new(self.n_layers, batch_size, self.n_hidden).zero_().to(device))\n",
        "\n",
        "        return h"
      ]
    },
    {
      "cell_type": "code",
      "source": [
        "inputs.shape"
      ],
      "metadata": {
        "colab": {
          "base_uri": "https://localhost:8080/"
        },
        "id": "6rCTa3cpDcNY",
        "outputId": "70edc0ea-342a-4684-ead3-0fff7008f89c"
      },
      "execution_count": null,
      "outputs": [
        {
          "output_type": "execute_result",
          "data": {
            "text/plain": [
              "torch.Size([250, 200])"
            ]
          },
          "metadata": {},
          "execution_count": 24
        }
      ]
    },
    {
      "cell_type": "code",
      "source": [
        "for inputs, labels in (train_loader):\n",
        "    break\n",
        "net.to(device)\n",
        "x = inputs.to('cuda')\n",
        "x = net.embedding(x)\n",
        "x, _ = net.lstm(x, h)\n",
        "x.shape\n",
        "# x = x[:, -1, :]\n",
        "# x = net.fc(x)\n",
        "# x = net.sigmoid(x)\n",
        "# x"
      ],
      "metadata": {
        "colab": {
          "base_uri": "https://localhost:8080/",
          "height": 216
        },
        "id": "hpX9Kcwz-tg1",
        "outputId": "b77ad175-4f6c-4083-c87b-c9b2b1b2bd1d"
      },
      "execution_count": null,
      "outputs": [
        {
          "output_type": "error",
          "ename": "NameError",
          "evalue": "name 'h' is not defined",
          "traceback": [
            "\u001b[0;31m---------------------------------------------------------------------------\u001b[0m",
            "\u001b[0;31mNameError\u001b[0m                                 Traceback (most recent call last)",
            "\u001b[0;32m<ipython-input-25-b4b7e4f6aee9>\u001b[0m in \u001b[0;36m<cell line: 6>\u001b[0;34m()\u001b[0m\n\u001b[1;32m      4\u001b[0m \u001b[0mx\u001b[0m \u001b[0;34m=\u001b[0m \u001b[0minputs\u001b[0m\u001b[0;34m.\u001b[0m\u001b[0mto\u001b[0m\u001b[0;34m(\u001b[0m\u001b[0;34m'cuda'\u001b[0m\u001b[0;34m)\u001b[0m\u001b[0;34m\u001b[0m\u001b[0;34m\u001b[0m\u001b[0m\n\u001b[1;32m      5\u001b[0m \u001b[0mx\u001b[0m \u001b[0;34m=\u001b[0m \u001b[0mnet\u001b[0m\u001b[0;34m.\u001b[0m\u001b[0membedding\u001b[0m\u001b[0;34m(\u001b[0m\u001b[0mx\u001b[0m\u001b[0;34m)\u001b[0m\u001b[0;34m\u001b[0m\u001b[0;34m\u001b[0m\u001b[0m\n\u001b[0;32m----> 6\u001b[0;31m \u001b[0mx\u001b[0m\u001b[0;34m,\u001b[0m \u001b[0m_\u001b[0m \u001b[0;34m=\u001b[0m \u001b[0mnet\u001b[0m\u001b[0;34m.\u001b[0m\u001b[0mlstm\u001b[0m\u001b[0;34m(\u001b[0m\u001b[0mx\u001b[0m\u001b[0;34m,\u001b[0m \u001b[0mh\u001b[0m\u001b[0;34m)\u001b[0m\u001b[0;34m\u001b[0m\u001b[0;34m\u001b[0m\u001b[0m\n\u001b[0m\u001b[1;32m      7\u001b[0m \u001b[0mx\u001b[0m\u001b[0;34m.\u001b[0m\u001b[0mshape\u001b[0m\u001b[0;34m\u001b[0m\u001b[0;34m\u001b[0m\u001b[0m\n\u001b[1;32m      8\u001b[0m \u001b[0;31m# x = x[:, -1, :]\u001b[0m\u001b[0;34m\u001b[0m\u001b[0;34m\u001b[0m\u001b[0m\n",
            "\u001b[0;31mNameError\u001b[0m: name 'h' is not defined"
          ]
        }
      ]
    },
    {
      "cell_type": "code",
      "source": [
        "x.shape"
      ],
      "metadata": {
        "colab": {
          "base_uri": "https://localhost:8080/",
          "height": 144
        },
        "id": "cFKphkGVCB16",
        "outputId": "65a20180-44ff-4923-85b1-5ba67e47f364"
      },
      "execution_count": null,
      "outputs": [
        {
          "output_type": "error",
          "ename": "NameError",
          "evalue": "name 'x' is not defined",
          "traceback": [
            "\u001b[0;31m---------------------------------------------------------------------------\u001b[0m",
            "\u001b[0;31mNameError\u001b[0m                                 Traceback (most recent call last)",
            "\u001b[0;32m<ipython-input-20-9f2b259887ef>\u001b[0m in \u001b[0;36m<cell line: 1>\u001b[0;34m()\u001b[0m\n\u001b[0;32m----> 1\u001b[0;31m \u001b[0mx\u001b[0m\u001b[0;34m.\u001b[0m\u001b[0mshape\u001b[0m\u001b[0;34m\u001b[0m\u001b[0;34m\u001b[0m\u001b[0m\n\u001b[0m",
            "\u001b[0;31mNameError\u001b[0m: name 'x' is not defined"
          ]
        }
      ]
    },
    {
      "cell_type": "markdown",
      "source": [
        "[source](https://discuss.pytorch.org/t/initialization-of-first-hidden-state-in-lstm-and-truncated-bptt/58384)\n",
        "```python\n",
        "class LSTMModel(nn.Module):\n",
        "    def __init__(self, input_dim, hidden_dim, layer_dim, output_dim):\n",
        "        super(LSTMModel, self).__init__()\n",
        "        # Hidden dimensions\n",
        "        self.hidden_dim = hidden_dim\n",
        "\n",
        "        # Number of hidden layers\n",
        "        self.layer_dim = layer_dim\n",
        "\n",
        "        # Building your LSTM\n",
        "        # batch_first=True causes input/output tensors to be of shape\n",
        "        # (batch_dim, seq_dim, feature_dim)\n",
        "        self.lstm = nn.LSTM(input_dim, hidden_dim, layer_dim, batch_first=True)\n",
        "\n",
        "        # Readout layer\n",
        "        self.fc = nn.Linear(hidden_dim, output_dim)\n",
        "\n",
        "    def forward(self, x):\n",
        "        # Initialize hidden state with zeros\n",
        "        h0 = torch.zeros(self.layer_dim, x.size(0), self.hidden_dim).requires_grad_()\n",
        "\n",
        "        # Initialize cell state\n",
        "        c0 = torch.zeros(self.layer_dim, x.size(0), self.hidden_dim).requires_grad_()\n",
        "\n",
        "        # One time step\n",
        "        # We need to detach as we are doing truncated backpropagation through time (BPTT)\n",
        "        # If we don't, we'll backprop all the way to the start even after going through another batch\n",
        "        out, (hn, cn) = self.lstm(x, (h0.detach(), c0.detach()))\n",
        "\n",
        "        # Index hidden state of last time step\n",
        "        # out.size() --> 100, 28, 100\n",
        "        # out[:, -1, :] --> 100, 100 --> just want last time step hidden states!\n",
        "        out = self.fc(out[:, -1, :])\n",
        "        # out.size() --> 100, 10\n",
        "        return out\n",
        "```\n",
        "\n"
      ],
      "metadata": {
        "id": "YYh2kM_Eo1gf"
      }
    },
    {
      "cell_type": "markdown",
      "metadata": {
        "id": "8eaDN1OAX_Ll"
      },
      "source": [
        "### 9. INSTANTIATE THE MODEL W/ HYPERPARAMETERS"
      ]
    },
    {
      "cell_type": "code",
      "execution_count": null,
      "metadata": {
        "id": "PvYmPs_WX_Ll"
      },
      "outputs": [],
      "source": [
        "# n_vocab = len(vocab_to_int)\n",
        "# n_embed = 100\n",
        "n_vocab = wv_torch_with_pad.shape[0]\n",
        "n_embed = wv_torch_with_pad.shape[1]\n",
        "n_hidden = 256\n",
        "n_output = 1   # 1 (\"positive\") or 0 (\"negative\")\n",
        "n_layers = 2\n",
        "\n",
        "net = SentimentLSTM(n_vocab, n_embed, n_hidden, n_output, n_layers)"
      ]
    },
    {
      "cell_type": "markdown",
      "metadata": {
        "id": "byUVkGZYX_Ll"
      },
      "source": [
        "### 10. DEFINE LOSS & OPTIMIZER"
      ]
    },
    {
      "cell_type": "markdown",
      "metadata": {
        "id": "d1Wei76BX_Lm"
      },
      "source": [
        "L2-regularization is already included into SGD optimizer. The `weight_decay` parameter is responsible for controlling its intensity."
      ]
    },
    {
      "cell_type": "code",
      "execution_count": null,
      "metadata": {
        "id": "Nj0oBKguX_Lm"
      },
      "outputs": [],
      "source": [
        "from torch import optim\n",
        "\n",
        "criterion = nn.BCELoss()\n",
        "optimizer = optim.SGD(net.parameters(), lr = 0.001, weight_decay=1e-5)"
      ]
    },
    {
      "cell_type": "markdown",
      "metadata": {
        "id": "cRFfCP5IX_Lm"
      },
      "source": [
        "### 11. TRAIN THE NETWORK!"
      ]
    },
    {
      "cell_type": "markdown",
      "metadata": {
        "id": "-6e2ytfOX_Ln"
      },
      "source": [
        "To prevent the exploding gradient problem in LSTM/RNN we use the `clip_grad_norm_` function, that takes the `clip` parameter.\n"
      ]
    },
    {
      "cell_type": "code",
      "source": [
        "temp = next(iter(train_loader))\n",
        "temp[0].shape"
      ],
      "metadata": {
        "id": "48Jzfu3X3jE-",
        "colab": {
          "base_uri": "https://localhost:8080/"
        },
        "outputId": "3c1086bb-d189-48cd-bf81-61d48d2925cb"
      },
      "execution_count": null,
      "outputs": [
        {
          "output_type": "execute_result",
          "data": {
            "text/plain": [
              "torch.Size([250, 200])"
            ]
          },
          "metadata": {},
          "execution_count": 45
        }
      ]
    },
    {
      "cell_type": "code",
      "execution_count": null,
      "metadata": {
        "colab": {
          "base_uri": "https://localhost:8080/"
        },
        "id": "r_R4Os0WX_Ln",
        "outputId": "e804b1ad-2cbc-46f3-9717-7dcb92fb5093"
      },
      "outputs": [
        {
          "output_type": "stream",
          "name": "stderr",
          "text": [
            "  0%|          | 0/100 [00:00<?, ?it/s]\n",
            "  0%|          | 0/7 [00:00<?, ?it/s]\u001b[A\n",
            " 14%|█▍        | 1/7 [00:01<00:06,  1.15s/it]\u001b[A\n",
            " 43%|████▎     | 3/7 [00:01<00:01,  2.82it/s]\u001b[A\n",
            " 57%|█████▋    | 4/7 [00:01<00:00,  3.68it/s]\u001b[A\n",
            " 86%|████████▌ | 6/7 [00:01<00:00,  5.41it/s]\u001b[A\n",
            "100%|██████████| 7/7 [00:01<00:00,  4.06it/s]\n",
            "  1%|          | 1/100 [00:01<02:51,  1.73s/it]\n",
            "  0%|          | 0/7 [00:00<?, ?it/s]\u001b[A\n",
            " 29%|██▊       | 2/7 [00:00<00:00, 15.75it/s]\u001b[A\n",
            " 57%|█████▋    | 4/7 [00:00<00:00, 11.87it/s]\u001b[A\n",
            "100%|██████████| 7/7 [00:00<00:00, 11.03it/s]\n",
            "  2%|▏         | 2/100 [00:02<01:47,  1.09s/it]\n",
            "  0%|          | 0/7 [00:00<?, ?it/s]\u001b[A\n",
            " 29%|██▊       | 2/7 [00:00<00:00, 14.84it/s]\u001b[A\n",
            " 57%|█████▋    | 4/7 [00:00<00:00, 11.65it/s]\u001b[A\n",
            "100%|██████████| 7/7 [00:00<00:00, 11.09it/s]\n",
            "  3%|▎         | 3/100 [00:03<01:26,  1.13it/s]\n",
            "  0%|          | 0/7 [00:00<?, ?it/s]\u001b[A\n",
            " 29%|██▊       | 2/7 [00:00<00:00, 14.37it/s]\u001b[A\n",
            " 57%|█████▋    | 4/7 [00:00<00:00, 11.42it/s]\u001b[A\n",
            "100%|██████████| 7/7 [00:00<00:00, 11.00it/s]\n",
            "  4%|▍         | 4/100 [00:03<01:16,  1.26it/s]\n",
            "  0%|          | 0/7 [00:00<?, ?it/s]\u001b[A\n",
            " 29%|██▊       | 2/7 [00:00<00:00, 14.23it/s]\u001b[A\n",
            " 57%|█████▋    | 4/7 [00:00<00:00, 11.56it/s]\u001b[A\n",
            "100%|██████████| 7/7 [00:00<00:00, 10.79it/s]\n",
            "  5%|▌         | 5/100 [00:04<01:10,  1.34it/s]\n",
            "  0%|          | 0/7 [00:00<?, ?it/s]\u001b[A\n",
            " 29%|██▊       | 2/7 [00:00<00:00, 14.18it/s]\u001b[A\n",
            " 57%|█████▋    | 4/7 [00:00<00:00, 11.55it/s]\u001b[A\n",
            "100%|██████████| 7/7 [00:00<00:00, 11.01it/s]\n",
            "  6%|▌         | 6/100 [00:04<01:06,  1.41it/s]\n",
            "  0%|          | 0/7 [00:00<?, ?it/s]\u001b[A\n",
            " 29%|██▊       | 2/7 [00:00<00:00, 14.08it/s]\u001b[A\n",
            " 57%|█████▋    | 4/7 [00:00<00:00, 11.48it/s]\u001b[A\n",
            "100%|██████████| 7/7 [00:00<00:00, 10.92it/s]\n",
            "  7%|▋         | 7/100 [00:05<01:04,  1.44it/s]\n",
            "  0%|          | 0/7 [00:00<?, ?it/s]\u001b[A\n",
            " 29%|██▊       | 2/7 [00:00<00:00, 13.56it/s]\u001b[A\n",
            " 57%|█████▋    | 4/7 [00:00<00:00, 11.05it/s]\u001b[A\n",
            "100%|██████████| 7/7 [00:00<00:00, 10.71it/s]\n",
            "  8%|▊         | 8/100 [00:06<01:02,  1.46it/s]\n",
            "  0%|          | 0/7 [00:00<?, ?it/s]\u001b[A\n",
            " 29%|██▊       | 2/7 [00:00<00:00, 14.07it/s]\u001b[A\n",
            " 57%|█████▋    | 4/7 [00:00<00:00, 11.52it/s]\u001b[A\n",
            "100%|██████████| 7/7 [00:00<00:00, 10.93it/s]\n",
            "  9%|▉         | 9/100 [00:06<01:01,  1.49it/s]\n",
            "  0%|          | 0/7 [00:00<?, ?it/s]\u001b[A\n",
            " 29%|██▊       | 2/7 [00:00<00:00, 14.17it/s]\u001b[A\n",
            " 57%|█████▋    | 4/7 [00:00<00:00, 11.96it/s]\u001b[A\n",
            "100%|██████████| 7/7 [00:00<00:00, 11.10it/s]\n",
            " 10%|█         | 10/100 [00:07<00:59,  1.51it/s]\n",
            "  0%|          | 0/7 [00:00<?, ?it/s]\u001b[A\n",
            " 29%|██▊       | 2/7 [00:00<00:00, 13.92it/s]\u001b[A\n",
            " 57%|█████▋    | 4/7 [00:00<00:00, 11.63it/s]\u001b[A\n",
            "100%|██████████| 7/7 [00:00<00:00, 10.99it/s]\n",
            " 11%|█         | 11/100 [00:08<00:58,  1.52it/s]\n",
            "  0%|          | 0/7 [00:00<?, ?it/s]\u001b[A\n",
            " 29%|██▊       | 2/7 [00:00<00:00, 13.91it/s]\u001b[A\n",
            " 57%|█████▋    | 4/7 [00:00<00:00, 11.55it/s]\u001b[A\n",
            "100%|██████████| 7/7 [00:00<00:00, 10.94it/s]\n",
            " 12%|█▏        | 12/100 [00:08<00:57,  1.53it/s]\n",
            "  0%|          | 0/7 [00:00<?, ?it/s]\u001b[A\n",
            " 29%|██▊       | 2/7 [00:00<00:00, 14.36it/s]\u001b[A\n",
            " 57%|█████▋    | 4/7 [00:00<00:00, 11.45it/s]\u001b[A\n",
            "100%|██████████| 7/7 [00:00<00:00, 11.02it/s]\n",
            " 13%|█▎        | 13/100 [00:09<00:56,  1.53it/s]\n",
            "  0%|          | 0/7 [00:00<?, ?it/s]\u001b[A\n",
            " 29%|██▊       | 2/7 [00:00<00:00, 14.16it/s]\u001b[A\n",
            " 57%|█████▋    | 4/7 [00:00<00:00, 11.43it/s]\u001b[A\n",
            "100%|██████████| 7/7 [00:00<00:00, 10.94it/s]\n",
            " 14%|█▍        | 14/100 [00:10<00:56,  1.53it/s]\n",
            "  0%|          | 0/7 [00:00<?, ?it/s]\u001b[A\n",
            " 29%|██▊       | 2/7 [00:00<00:00,  7.74it/s]\u001b[A\n",
            " 57%|█████▋    | 4/7 [00:00<00:00, 11.47it/s]\u001b[A"
          ]
        },
        {
          "output_type": "stream",
          "name": "stdout",
          "text": [
            "Epoch: 15/100 Step: 100 Training Loss: 0.6931 Validation Loss: 0.6934\n"
          ]
        },
        {
          "output_type": "stream",
          "name": "stderr",
          "text": [
            "\n",
            "100%|██████████| 7/7 [00:00<00:00, 10.34it/s]\n",
            " 15%|█▌        | 15/100 [00:10<00:56,  1.51it/s]\n",
            "  0%|          | 0/7 [00:00<?, ?it/s]\u001b[A\n",
            " 29%|██▊       | 2/7 [00:00<00:00, 14.05it/s]\u001b[A\n",
            " 57%|█████▋    | 4/7 [00:00<00:00, 11.48it/s]\u001b[A\n",
            "100%|██████████| 7/7 [00:00<00:00, 10.96it/s]\n",
            " 16%|█▌        | 16/100 [00:11<00:55,  1.52it/s]\n",
            "  0%|          | 0/7 [00:00<?, ?it/s]\u001b[A\n",
            " 29%|██▊       | 2/7 [00:00<00:00, 14.11it/s]\u001b[A\n",
            " 57%|█████▋    | 4/7 [00:00<00:00, 11.46it/s]\u001b[A\n",
            "100%|██████████| 7/7 [00:00<00:00, 10.88it/s]\n",
            " 17%|█▋        | 17/100 [00:12<00:54,  1.52it/s]\n",
            "  0%|          | 0/7 [00:00<?, ?it/s]\u001b[A\n",
            " 29%|██▊       | 2/7 [00:00<00:00, 14.62it/s]\u001b[A\n",
            " 57%|█████▋    | 4/7 [00:00<00:00, 11.59it/s]\u001b[A\n",
            "100%|██████████| 7/7 [00:00<00:00, 11.05it/s]\n",
            " 18%|█▊        | 18/100 [00:12<00:53,  1.53it/s]\n",
            "  0%|          | 0/7 [00:00<?, ?it/s]\u001b[A\n",
            " 29%|██▊       | 2/7 [00:00<00:00, 14.46it/s]\u001b[A\n",
            " 57%|█████▋    | 4/7 [00:00<00:00, 11.50it/s]\u001b[A\n",
            "100%|██████████| 7/7 [00:00<00:00, 11.04it/s]\n",
            " 19%|█▉        | 19/100 [00:13<00:52,  1.54it/s]\n",
            "  0%|          | 0/7 [00:00<?, ?it/s]\u001b[A\n",
            " 29%|██▊       | 2/7 [00:00<00:00, 13.99it/s]\u001b[A\n",
            " 57%|█████▋    | 4/7 [00:00<00:00, 11.38it/s]\u001b[A\n",
            "100%|██████████| 7/7 [00:00<00:00, 10.92it/s]\n",
            " 20%|██        | 20/100 [00:14<00:52,  1.53it/s]\n",
            "  0%|          | 0/7 [00:00<?, ?it/s]\u001b[A\n",
            " 29%|██▊       | 2/7 [00:00<00:00, 14.65it/s]\u001b[A\n",
            " 57%|█████▋    | 4/7 [00:00<00:00, 11.13it/s]\u001b[A\n",
            "100%|██████████| 7/7 [00:00<00:00, 10.63it/s]\n",
            " 21%|██        | 21/100 [00:14<00:51,  1.52it/s]\n",
            "  0%|          | 0/7 [00:00<?, ?it/s]\u001b[A\n",
            " 29%|██▊       | 2/7 [00:00<00:00, 14.18it/s]\u001b[A\n",
            " 57%|█████▋    | 4/7 [00:00<00:00, 11.49it/s]\u001b[A\n",
            "100%|██████████| 7/7 [00:00<00:00, 10.98it/s]\n",
            " 22%|██▏       | 22/100 [00:15<00:51,  1.53it/s]\n",
            "  0%|          | 0/7 [00:00<?, ?it/s]\u001b[A\n",
            " 29%|██▊       | 2/7 [00:00<00:00, 14.29it/s]\u001b[A\n",
            " 57%|█████▋    | 4/7 [00:00<00:00, 10.93it/s]\u001b[A\n",
            "100%|██████████| 7/7 [00:00<00:00, 10.67it/s]\n",
            " 23%|██▎       | 23/100 [00:16<00:50,  1.52it/s]\n",
            "  0%|          | 0/7 [00:00<?, ?it/s]\u001b[A\n",
            " 29%|██▊       | 2/7 [00:00<00:00, 14.40it/s]\u001b[A\n",
            " 57%|█████▋    | 4/7 [00:00<00:00, 11.50it/s]\u001b[A\n",
            "100%|██████████| 7/7 [00:00<00:00, 10.87it/s]\n",
            " 24%|██▍       | 24/100 [00:16<00:49,  1.52it/s]\n",
            "  0%|          | 0/7 [00:00<?, ?it/s]\u001b[A\n",
            " 29%|██▊       | 2/7 [00:00<00:00, 14.76it/s]\u001b[A\n",
            " 57%|█████▋    | 4/7 [00:00<00:00, 11.24it/s]\u001b[A\n",
            "100%|██████████| 7/7 [00:00<00:00, 10.65it/s]\n",
            " 25%|██▌       | 25/100 [00:17<00:49,  1.51it/s]\n",
            "  0%|          | 0/7 [00:00<?, ?it/s]\u001b[A\n",
            " 29%|██▊       | 2/7 [00:00<00:00, 14.63it/s]\u001b[A\n",
            " 57%|█████▋    | 4/7 [00:00<00:00, 10.89it/s]\u001b[A\n",
            "100%|██████████| 7/7 [00:00<00:00, 10.70it/s]\n",
            " 26%|██▌       | 26/100 [00:18<00:49,  1.51it/s]\n",
            "  0%|          | 0/7 [00:00<?, ?it/s]\u001b[A\n",
            " 29%|██▊       | 2/7 [00:00<00:00, 14.26it/s]\u001b[A\n",
            " 57%|█████▋    | 4/7 [00:00<00:00, 11.00it/s]\u001b[A\n",
            "100%|██████████| 7/7 [00:00<00:00, 10.57it/s]\n",
            " 27%|██▋       | 27/100 [00:18<00:48,  1.50it/s]\n",
            "  0%|          | 0/7 [00:00<?, ?it/s]\u001b[A\n",
            " 29%|██▊       | 2/7 [00:00<00:00, 14.43it/s]\u001b[A\n",
            " 57%|█████▋    | 4/7 [00:00<00:00, 11.05it/s]\u001b[A\n",
            "100%|██████████| 7/7 [00:00<00:00, 10.68it/s]\n",
            " 28%|██▊       | 28/100 [00:19<00:47,  1.50it/s]\n",
            "  0%|          | 0/7 [00:00<?, ?it/s]\u001b[A\n",
            " 29%|██▊       | 2/7 [00:00<00:00, 14.16it/s]\u001b[A\n",
            " 57%|█████▋    | 4/7 [00:00<00:00,  7.98it/s]\u001b[A\n",
            " 86%|████████▌ | 6/7 [00:00<00:00, 10.58it/s]\u001b[A"
          ]
        },
        {
          "output_type": "stream",
          "name": "stdout",
          "text": [
            "Epoch: 29/100 Step: 200 Training Loss: 0.6929 Validation Loss: 0.6930\n"
          ]
        },
        {
          "output_type": "stream",
          "name": "stderr",
          "text": [
            "100%|██████████| 7/7 [00:00<00:00, 10.17it/s]\n",
            " 29%|██▉       | 29/100 [00:20<00:48,  1.48it/s]\n",
            "  0%|          | 0/7 [00:00<?, ?it/s]\u001b[A\n",
            " 29%|██▊       | 2/7 [00:00<00:00, 14.71it/s]\u001b[A\n",
            " 57%|█████▋    | 4/7 [00:00<00:00, 11.52it/s]\u001b[A\n",
            "100%|██████████| 7/7 [00:00<00:00, 10.95it/s]\n",
            " 30%|███       | 30/100 [00:20<00:46,  1.50it/s]\n",
            "  0%|          | 0/7 [00:00<?, ?it/s]\u001b[A\n",
            " 29%|██▊       | 2/7 [00:00<00:00, 14.19it/s]\u001b[A\n",
            " 57%|█████▋    | 4/7 [00:00<00:00, 10.85it/s]\u001b[A\n",
            "100%|██████████| 7/7 [00:00<00:00, 10.69it/s]\n",
            " 31%|███       | 31/100 [00:21<00:46,  1.50it/s]\n",
            "  0%|          | 0/7 [00:00<?, ?it/s]\u001b[A\n",
            " 29%|██▊       | 2/7 [00:00<00:00, 14.44it/s]\u001b[A\n",
            " 57%|█████▋    | 4/7 [00:00<00:00, 11.60it/s]\u001b[A\n",
            "100%|██████████| 7/7 [00:00<00:00, 10.92it/s]\n",
            " 32%|███▏      | 32/100 [00:22<00:45,  1.51it/s]\n",
            "  0%|          | 0/7 [00:00<?, ?it/s]\u001b[A\n",
            " 29%|██▊       | 2/7 [00:00<00:00, 14.89it/s]\u001b[A\n",
            " 57%|█████▋    | 4/7 [00:00<00:00, 11.10it/s]\u001b[A\n",
            "100%|██████████| 7/7 [00:00<00:00, 10.66it/s]\n",
            " 33%|███▎      | 33/100 [00:22<00:44,  1.50it/s]\n",
            "  0%|          | 0/7 [00:00<?, ?it/s]\u001b[A\n",
            " 29%|██▊       | 2/7 [00:00<00:00, 14.97it/s]\u001b[A\n",
            " 57%|█████▋    | 4/7 [00:00<00:00, 11.70it/s]\u001b[A\n",
            "100%|██████████| 7/7 [00:00<00:00, 11.02it/s]\n",
            " 34%|███▍      | 34/100 [00:23<00:43,  1.52it/s]\n",
            "  0%|          | 0/7 [00:00<?, ?it/s]\u001b[A\n",
            " 29%|██▊       | 2/7 [00:00<00:00, 14.31it/s]\u001b[A\n",
            " 57%|█████▋    | 4/7 [00:00<00:00, 10.44it/s]\u001b[A\n",
            "100%|██████████| 7/7 [00:00<00:00, 10.32it/s]\n",
            " 35%|███▌      | 35/100 [00:24<00:43,  1.49it/s]\n",
            "  0%|          | 0/7 [00:00<?, ?it/s]\u001b[A\n",
            " 29%|██▊       | 2/7 [00:00<00:00, 14.63it/s]\u001b[A\n",
            " 57%|█████▋    | 4/7 [00:00<00:00, 11.25it/s]\u001b[A\n",
            "100%|██████████| 7/7 [00:00<00:00, 10.55it/s]\n",
            " 36%|███▌      | 36/100 [00:24<00:42,  1.49it/s]\n",
            "  0%|          | 0/7 [00:00<?, ?it/s]\u001b[A\n",
            " 29%|██▊       | 2/7 [00:00<00:00, 14.84it/s]\u001b[A\n",
            " 57%|█████▋    | 4/7 [00:00<00:00, 10.80it/s]\u001b[A\n",
            "100%|██████████| 7/7 [00:00<00:00, 10.75it/s]\n",
            " 37%|███▋      | 37/100 [00:25<00:42,  1.50it/s]\n",
            "  0%|          | 0/7 [00:00<?, ?it/s]\u001b[A\n",
            " 29%|██▊       | 2/7 [00:00<00:00, 14.44it/s]\u001b[A\n",
            " 57%|█████▋    | 4/7 [00:00<00:00, 10.79it/s]\u001b[A\n",
            "100%|██████████| 7/7 [00:00<00:00, 10.55it/s]\n",
            " 38%|███▊      | 38/100 [00:26<00:41,  1.49it/s]\n",
            "  0%|          | 0/7 [00:00<?, ?it/s]\u001b[A\n",
            " 29%|██▊       | 2/7 [00:00<00:00, 14.82it/s]\u001b[A\n",
            " 57%|█████▋    | 4/7 [00:00<00:00, 10.95it/s]\u001b[A\n",
            "100%|██████████| 7/7 [00:00<00:00, 10.65it/s]\n",
            " 39%|███▉      | 39/100 [00:26<00:40,  1.49it/s]\n",
            "  0%|          | 0/7 [00:00<?, ?it/s]\u001b[A\n",
            " 29%|██▊       | 2/7 [00:00<00:00, 14.13it/s]\u001b[A\n",
            " 57%|█████▋    | 4/7 [00:00<00:00, 10.85it/s]\u001b[A\n",
            "100%|██████████| 7/7 [00:00<00:00, 10.65it/s]\n",
            " 40%|████      | 40/100 [00:27<00:40,  1.50it/s]\n",
            "  0%|          | 0/7 [00:00<?, ?it/s]\u001b[A\n",
            " 29%|██▊       | 2/7 [00:00<00:00, 14.43it/s]\u001b[A\n",
            " 57%|█████▋    | 4/7 [00:00<00:00, 10.83it/s]\u001b[A\n",
            "100%|██████████| 7/7 [00:00<00:00, 10.62it/s]\n",
            " 41%|████      | 41/100 [00:28<00:39,  1.50it/s]\n",
            "  0%|          | 0/7 [00:00<?, ?it/s]\u001b[A\n",
            " 29%|██▊       | 2/7 [00:00<00:00, 14.34it/s]\u001b[A\n",
            " 57%|█████▋    | 4/7 [00:00<00:00, 10.75it/s]\u001b[A\n",
            "100%|██████████| 7/7 [00:00<00:00, 10.56it/s]\n",
            " 42%|████▏     | 42/100 [00:28<00:38,  1.49it/s]\n",
            "  0%|          | 0/7 [00:00<?, ?it/s]\u001b[A\n",
            " 29%|██▊       | 2/7 [00:00<00:00, 14.54it/s]\u001b[A\n",
            " 57%|█████▋    | 4/7 [00:00<00:00, 10.92it/s]\u001b[A\n",
            "100%|██████████| 7/7 [00:00<00:00,  9.98it/s]\n",
            " 43%|████▎     | 43/100 [00:29<00:38,  1.47it/s]"
          ]
        },
        {
          "output_type": "stream",
          "name": "stdout",
          "text": [
            "Epoch: 43/100 Step: 300 Training Loss: 0.6927 Validation Loss: 0.6925\n"
          ]
        },
        {
          "output_type": "stream",
          "name": "stderr",
          "text": [
            "\n",
            "  0%|          | 0/7 [00:00<?, ?it/s]\u001b[A\n",
            " 29%|██▊       | 2/7 [00:00<00:00, 15.49it/s]\u001b[A\n",
            " 57%|█████▋    | 4/7 [00:00<00:00, 10.73it/s]\u001b[A\n",
            "100%|██████████| 7/7 [00:00<00:00, 10.67it/s]\n",
            " 44%|████▍     | 44/100 [00:30<00:37,  1.48it/s]\n",
            "  0%|          | 0/7 [00:00<?, ?it/s]\u001b[A\n",
            " 29%|██▊       | 2/7 [00:00<00:00, 14.42it/s]\u001b[A\n",
            " 57%|█████▋    | 4/7 [00:00<00:00, 10.69it/s]\u001b[A\n",
            "100%|██████████| 7/7 [00:00<00:00, 10.65it/s]\n",
            " 45%|████▌     | 45/100 [00:30<00:37,  1.48it/s]\n",
            "  0%|          | 0/7 [00:00<?, ?it/s]\u001b[A\n",
            " 29%|██▊       | 2/7 [00:00<00:00, 14.52it/s]\u001b[A\n",
            " 57%|█████▋    | 4/7 [00:00<00:00, 10.86it/s]\u001b[A\n",
            "100%|██████████| 7/7 [00:00<00:00, 10.66it/s]\n",
            " 46%|████▌     | 46/100 [00:31<00:36,  1.49it/s]\n",
            "  0%|          | 0/7 [00:00<?, ?it/s]\u001b[A\n",
            " 29%|██▊       | 2/7 [00:00<00:00, 13.80it/s]\u001b[A\n",
            " 57%|█████▋    | 4/7 [00:00<00:00, 10.87it/s]\u001b[A\n",
            "100%|██████████| 7/7 [00:00<00:00, 10.63it/s]\n",
            " 47%|████▋     | 47/100 [00:32<00:35,  1.49it/s]\n",
            "  0%|          | 0/7 [00:00<?, ?it/s]\u001b[A\n",
            " 29%|██▊       | 2/7 [00:00<00:00, 13.82it/s]\u001b[A\n",
            " 57%|█████▋    | 4/7 [00:00<00:00, 10.82it/s]\u001b[A\n",
            "100%|██████████| 7/7 [00:00<00:00, 10.68it/s]\n",
            " 48%|████▊     | 48/100 [00:32<00:34,  1.50it/s]\n",
            "  0%|          | 0/7 [00:00<?, ?it/s]\u001b[A\n",
            " 29%|██▊       | 2/7 [00:00<00:00, 14.32it/s]\u001b[A\n",
            " 57%|█████▋    | 4/7 [00:00<00:00, 10.84it/s]\u001b[A\n",
            "100%|██████████| 7/7 [00:00<00:00, 10.63it/s]\n",
            " 49%|████▉     | 49/100 [00:33<00:34,  1.50it/s]\n",
            "  0%|          | 0/7 [00:00<?, ?it/s]\u001b[A\n",
            " 29%|██▊       | 2/7 [00:00<00:00, 14.45it/s]\u001b[A\n",
            " 57%|█████▋    | 4/7 [00:00<00:00, 10.80it/s]\u001b[A\n",
            "100%|██████████| 7/7 [00:00<00:00, 10.63it/s]\n",
            " 50%|█████     | 50/100 [00:34<00:33,  1.49it/s]\n",
            "  0%|          | 0/7 [00:00<?, ?it/s]\u001b[A\n",
            " 29%|██▊       | 2/7 [00:00<00:00, 14.61it/s]\u001b[A\n",
            " 57%|█████▋    | 4/7 [00:00<00:00, 10.92it/s]\u001b[A\n",
            "100%|██████████| 7/7 [00:00<00:00, 10.66it/s]\n",
            " 51%|█████     | 51/100 [00:34<00:32,  1.50it/s]\n",
            "  0%|          | 0/7 [00:00<?, ?it/s]\u001b[A\n",
            " 29%|██▊       | 2/7 [00:00<00:00, 14.63it/s]\u001b[A\n",
            " 57%|█████▋    | 4/7 [00:00<00:00, 10.81it/s]\u001b[A\n",
            "100%|██████████| 7/7 [00:00<00:00, 10.66it/s]\n",
            " 52%|█████▏    | 52/100 [00:35<00:32,  1.50it/s]\n",
            "  0%|          | 0/7 [00:00<?, ?it/s]\u001b[A\n",
            " 29%|██▊       | 2/7 [00:00<00:00, 14.22it/s]\u001b[A\n",
            " 57%|█████▋    | 4/7 [00:00<00:00, 10.99it/s]\u001b[A\n",
            "100%|██████████| 7/7 [00:00<00:00, 10.66it/s]\n",
            " 53%|█████▎    | 53/100 [00:36<00:31,  1.50it/s]\n",
            "  0%|          | 0/7 [00:00<?, ?it/s]\u001b[A\n",
            " 29%|██▊       | 2/7 [00:00<00:00, 14.03it/s]\u001b[A\n",
            " 57%|█████▋    | 4/7 [00:00<00:00, 11.02it/s]\u001b[A\n",
            "100%|██████████| 7/7 [00:00<00:00, 10.73it/s]\n",
            " 54%|█████▍    | 54/100 [00:36<00:30,  1.50it/s]\n",
            "  0%|          | 0/7 [00:00<?, ?it/s]\u001b[A\n",
            " 29%|██▊       | 2/7 [00:00<00:00, 14.47it/s]\u001b[A\n",
            " 57%|█████▋    | 4/7 [00:00<00:00, 10.84it/s]\u001b[A\n",
            "100%|██████████| 7/7 [00:00<00:00, 10.64it/s]\n",
            " 55%|█████▌    | 55/100 [00:37<00:30,  1.50it/s]\n",
            "  0%|          | 0/7 [00:00<?, ?it/s]\u001b[A\n",
            " 29%|██▊       | 2/7 [00:00<00:00, 14.08it/s]\u001b[A\n",
            " 57%|█████▋    | 4/7 [00:00<00:00, 10.87it/s]\u001b[A\n",
            "100%|██████████| 7/7 [00:00<00:00, 10.61it/s]\n",
            " 56%|█████▌    | 56/100 [00:38<00:29,  1.50it/s]\n",
            "  0%|          | 0/7 [00:00<?, ?it/s]\u001b[A\n",
            " 29%|██▊       | 2/7 [00:00<00:00, 14.24it/s]\u001b[A\n",
            " 57%|█████▋    | 4/7 [00:00<00:00, 10.93it/s]\u001b[A\n",
            "100%|██████████| 7/7 [00:00<00:00, 10.61it/s]\n",
            " 57%|█████▋    | 57/100 [00:38<00:28,  1.50it/s]\n",
            "  0%|          | 0/7 [00:00<?, ?it/s]\u001b[A\n",
            " 14%|█▍        | 1/7 [00:00<00:01,  5.77it/s]\u001b[A\n",
            " 43%|████▎     | 3/7 [00:00<00:00, 11.27it/s]\u001b[A"
          ]
        },
        {
          "output_type": "stream",
          "name": "stdout",
          "text": [
            "Epoch: 58/100 Step: 400 Training Loss: 0.6941 Validation Loss: 0.6935\n"
          ]
        },
        {
          "output_type": "stream",
          "name": "stderr",
          "text": [
            "\n",
            " 71%|███████▏  | 5/7 [00:00<00:00, 10.56it/s]\u001b[A\n",
            "100%|██████████| 7/7 [00:00<00:00, 10.01it/s]\n",
            " 58%|█████▊    | 58/100 [00:39<00:28,  1.47it/s]\n",
            "  0%|          | 0/7 [00:00<?, ?it/s]\u001b[A\n",
            " 29%|██▊       | 2/7 [00:00<00:00, 14.13it/s]\u001b[A\n",
            " 57%|█████▋    | 4/7 [00:00<00:00, 10.90it/s]\u001b[A\n",
            "100%|██████████| 7/7 [00:00<00:00, 10.39it/s]\n",
            " 59%|█████▉    | 59/100 [00:40<00:27,  1.47it/s]\n",
            "  0%|          | 0/7 [00:00<?, ?it/s]\u001b[A\n",
            " 29%|██▊       | 2/7 [00:00<00:00, 14.31it/s]\u001b[A\n",
            " 57%|█████▋    | 4/7 [00:00<00:00, 10.88it/s]\u001b[A\n",
            "100%|██████████| 7/7 [00:00<00:00, 10.59it/s]\n",
            " 60%|██████    | 60/100 [00:40<00:27,  1.47it/s]\n",
            "  0%|          | 0/7 [00:00<?, ?it/s]\u001b[A\n",
            " 29%|██▊       | 2/7 [00:00<00:00, 13.24it/s]\u001b[A\n",
            " 57%|█████▋    | 4/7 [00:00<00:00, 11.00it/s]\u001b[A\n",
            "100%|██████████| 7/7 [00:00<00:00, 10.42it/s]\n",
            " 61%|██████    | 61/100 [00:41<00:26,  1.47it/s]\n",
            "  0%|          | 0/7 [00:00<?, ?it/s]\u001b[A\n",
            " 29%|██▊       | 2/7 [00:00<00:00, 13.93it/s]\u001b[A\n",
            " 57%|█████▋    | 4/7 [00:00<00:00, 10.81it/s]\u001b[A\n",
            "100%|██████████| 7/7 [00:00<00:00, 10.56it/s]\n",
            " 62%|██████▏   | 62/100 [00:42<00:25,  1.47it/s]\n",
            "  0%|          | 0/7 [00:00<?, ?it/s]\u001b[A\n",
            " 29%|██▊       | 2/7 [00:00<00:00, 13.21it/s]\u001b[A\n",
            " 57%|█████▋    | 4/7 [00:00<00:00, 10.45it/s]\u001b[A\n",
            "100%|██████████| 7/7 [00:00<00:00, 10.28it/s]\n",
            " 63%|██████▎   | 63/100 [00:42<00:25,  1.46it/s]\n",
            "  0%|          | 0/7 [00:00<?, ?it/s]\u001b[A\n",
            " 29%|██▊       | 2/7 [00:00<00:00, 13.07it/s]\u001b[A\n",
            " 57%|█████▋    | 4/7 [00:00<00:00, 10.94it/s]\u001b[A\n",
            "100%|██████████| 7/7 [00:00<00:00, 10.57it/s]\n",
            " 64%|██████▍   | 64/100 [00:43<00:24,  1.47it/s]\n",
            "  0%|          | 0/7 [00:00<?, ?it/s]\u001b[A\n",
            " 29%|██▊       | 2/7 [00:00<00:00, 13.49it/s]\u001b[A\n",
            " 57%|█████▋    | 4/7 [00:00<00:00, 11.06it/s]\u001b[A\n",
            "100%|██████████| 7/7 [00:00<00:00, 10.53it/s]\n",
            " 65%|██████▌   | 65/100 [00:44<00:23,  1.47it/s]\n",
            "  0%|          | 0/7 [00:00<?, ?it/s]\u001b[A\n",
            " 29%|██▊       | 2/7 [00:00<00:00, 13.53it/s]\u001b[A\n",
            " 57%|█████▋    | 4/7 [00:00<00:00, 10.63it/s]\u001b[A\n",
            "100%|██████████| 7/7 [00:00<00:00, 10.39it/s]\n",
            " 66%|██████▌   | 66/100 [00:44<00:23,  1.47it/s]\n",
            "  0%|          | 0/7 [00:00<?, ?it/s]\u001b[A\n",
            " 29%|██▊       | 2/7 [00:00<00:00, 14.42it/s]\u001b[A\n",
            " 57%|█████▋    | 4/7 [00:00<00:00, 11.08it/s]\u001b[A\n",
            "100%|██████████| 7/7 [00:00<00:00, 10.59it/s]\n",
            " 67%|██████▋   | 67/100 [00:45<00:22,  1.48it/s]\n",
            "  0%|          | 0/7 [00:00<?, ?it/s]\u001b[A\n",
            " 29%|██▊       | 2/7 [00:00<00:00, 13.94it/s]\u001b[A\n",
            " 57%|█████▋    | 4/7 [00:00<00:00, 10.92it/s]\u001b[A\n",
            "100%|██████████| 7/7 [00:00<00:00, 10.65it/s]\n",
            " 68%|██████▊   | 68/100 [00:46<00:21,  1.48it/s]\n",
            "  0%|          | 0/7 [00:00<?, ?it/s]\u001b[A\n",
            " 29%|██▊       | 2/7 [00:00<00:00, 13.55it/s]\u001b[A\n",
            " 57%|█████▋    | 4/7 [00:00<00:00, 10.54it/s]\u001b[A\n",
            "100%|██████████| 7/7 [00:00<00:00, 10.30it/s]\n",
            " 69%|██████▉   | 69/100 [00:47<00:21,  1.47it/s]\n",
            "  0%|          | 0/7 [00:00<?, ?it/s]\u001b[A\n",
            " 29%|██▊       | 2/7 [00:00<00:00, 14.16it/s]\u001b[A\n",
            " 57%|█████▋    | 4/7 [00:00<00:00, 10.75it/s]\u001b[A\n",
            "100%|██████████| 7/7 [00:00<00:00, 10.29it/s]\n",
            " 70%|███████   | 70/100 [00:47<00:20,  1.47it/s]\n",
            "  0%|          | 0/7 [00:00<?, ?it/s]\u001b[A\n",
            " 29%|██▊       | 2/7 [00:00<00:00, 14.30it/s]\u001b[A\n",
            " 57%|█████▋    | 4/7 [00:00<00:00, 10.96it/s]\u001b[A\n",
            "100%|██████████| 7/7 [00:00<00:00, 10.68it/s]\n",
            " 71%|███████   | 71/100 [00:48<00:19,  1.48it/s]\n",
            "  0%|          | 0/7 [00:00<?, ?it/s]\u001b[A\n",
            " 29%|██▊       | 2/7 [00:00<00:00, 13.95it/s]\u001b[A\n",
            " 57%|█████▋    | 4/7 [00:00<00:00,  9.55it/s]\u001b[A"
          ]
        },
        {
          "output_type": "stream",
          "name": "stdout",
          "text": [
            "Epoch: 72/100 Step: 500 Training Loss: 0.6932 Validation Loss: 0.6933\n"
          ]
        },
        {
          "output_type": "stream",
          "name": "stderr",
          "text": [
            "\n",
            "100%|██████████| 7/7 [00:00<00:00,  9.82it/s]\n",
            " 72%|███████▏  | 72/100 [00:49<00:19,  1.45it/s]\n",
            "  0%|          | 0/7 [00:00<?, ?it/s]\u001b[A\n",
            " 29%|██▊       | 2/7 [00:00<00:00, 14.41it/s]\u001b[A\n",
            " 57%|█████▋    | 4/7 [00:00<00:00, 10.80it/s]\u001b[A\n",
            "100%|██████████| 7/7 [00:00<00:00, 10.45it/s]\n",
            " 73%|███████▎  | 73/100 [00:49<00:18,  1.45it/s]\n",
            "  0%|          | 0/7 [00:00<?, ?it/s]\u001b[A\n",
            " 29%|██▊       | 2/7 [00:00<00:00, 13.98it/s]\u001b[A\n",
            " 57%|█████▋    | 4/7 [00:00<00:00, 11.08it/s]\u001b[A\n",
            "100%|██████████| 7/7 [00:00<00:00, 10.52it/s]\n",
            " 74%|███████▍  | 74/100 [00:50<00:17,  1.46it/s]\n",
            "  0%|          | 0/7 [00:00<?, ?it/s]\u001b[A\n",
            " 29%|██▊       | 2/7 [00:00<00:00, 13.68it/s]\u001b[A\n",
            " 57%|█████▋    | 4/7 [00:00<00:00, 10.77it/s]\u001b[A\n",
            "100%|██████████| 7/7 [00:00<00:00, 10.63it/s]\n",
            " 75%|███████▌  | 75/100 [00:51<00:16,  1.47it/s]\n",
            "  0%|          | 0/7 [00:00<?, ?it/s]\u001b[A\n",
            " 29%|██▊       | 2/7 [00:00<00:00, 13.92it/s]\u001b[A\n",
            " 57%|█████▋    | 4/7 [00:00<00:00, 10.79it/s]\u001b[A\n",
            "100%|██████████| 7/7 [00:00<00:00, 10.56it/s]\n",
            " 76%|███████▌  | 76/100 [00:51<00:16,  1.48it/s]\n",
            "  0%|          | 0/7 [00:00<?, ?it/s]\u001b[A\n",
            " 29%|██▊       | 2/7 [00:00<00:00, 14.35it/s]\u001b[A\n",
            " 57%|█████▋    | 4/7 [00:00<00:00, 10.97it/s]\u001b[A\n",
            "100%|██████████| 7/7 [00:00<00:00, 10.65it/s]\n",
            " 77%|███████▋  | 77/100 [00:52<00:15,  1.48it/s]\n",
            "  0%|          | 0/7 [00:00<?, ?it/s]\u001b[A\n",
            " 29%|██▊       | 2/7 [00:00<00:00, 14.08it/s]\u001b[A\n",
            " 57%|█████▋    | 4/7 [00:00<00:00, 10.92it/s]\u001b[A\n",
            "100%|██████████| 7/7 [00:00<00:00, 10.65it/s]\n",
            " 78%|███████▊  | 78/100 [00:53<00:14,  1.49it/s]\n",
            "  0%|          | 0/7 [00:00<?, ?it/s]\u001b[A\n",
            " 29%|██▊       | 2/7 [00:00<00:00, 14.45it/s]\u001b[A\n",
            " 57%|█████▋    | 4/7 [00:00<00:00, 10.85it/s]\u001b[A\n",
            "100%|██████████| 7/7 [00:00<00:00, 10.67it/s]\n",
            " 79%|███████▉  | 79/100 [00:53<00:14,  1.49it/s]\n",
            "  0%|          | 0/7 [00:00<?, ?it/s]\u001b[A\n",
            " 29%|██▊       | 2/7 [00:00<00:00, 14.16it/s]\u001b[A\n",
            " 57%|█████▋    | 4/7 [00:00<00:00, 10.91it/s]\u001b[A\n",
            "100%|██████████| 7/7 [00:00<00:00, 10.60it/s]\n",
            " 80%|████████  | 80/100 [00:54<00:13,  1.49it/s]\n",
            "  0%|          | 0/7 [00:00<?, ?it/s]\u001b[A\n",
            " 29%|██▊       | 2/7 [00:00<00:00, 14.07it/s]\u001b[A\n",
            " 57%|█████▋    | 4/7 [00:00<00:00, 11.01it/s]\u001b[A\n",
            "100%|██████████| 7/7 [00:00<00:00, 10.56it/s]\n",
            " 81%|████████  | 81/100 [00:55<00:12,  1.49it/s]\n",
            "  0%|          | 0/7 [00:00<?, ?it/s]\u001b[A\n",
            " 29%|██▊       | 2/7 [00:00<00:00, 13.43it/s]\u001b[A\n",
            " 57%|█████▋    | 4/7 [00:00<00:00, 10.19it/s]\u001b[A\n",
            "100%|██████████| 7/7 [00:00<00:00, 10.19it/s]\n",
            " 82%|████████▏ | 82/100 [00:55<00:12,  1.47it/s]\n",
            "  0%|          | 0/7 [00:00<?, ?it/s]\u001b[A\n",
            " 29%|██▊       | 2/7 [00:00<00:00, 13.07it/s]\u001b[A\n",
            " 57%|█████▋    | 4/7 [00:00<00:00, 10.69it/s]\u001b[A\n",
            "100%|██████████| 7/7 [00:00<00:00, 10.29it/s]\n",
            " 83%|████████▎ | 83/100 [00:56<00:11,  1.46it/s]\n",
            "  0%|          | 0/7 [00:00<?, ?it/s]\u001b[A\n",
            " 29%|██▊       | 2/7 [00:00<00:00, 13.18it/s]\u001b[A\n",
            " 57%|█████▋    | 4/7 [00:00<00:00, 10.77it/s]\u001b[A\n",
            "100%|██████████| 7/7 [00:00<00:00, 10.49it/s]\n",
            " 84%|████████▍ | 84/100 [00:57<00:10,  1.47it/s]\n",
            "  0%|          | 0/7 [00:00<?, ?it/s]\u001b[A\n",
            " 29%|██▊       | 2/7 [00:00<00:00, 14.41it/s]\u001b[A\n",
            " 57%|█████▋    | 4/7 [00:00<00:00, 10.80it/s]\u001b[A\n",
            "100%|██████████| 7/7 [00:00<00:00, 10.41it/s]\n",
            " 85%|████████▌ | 85/100 [00:57<00:10,  1.47it/s]\n",
            "  0%|          | 0/7 [00:00<?, ?it/s]\u001b[A\n",
            " 29%|██▊       | 2/7 [00:00<00:00, 14.29it/s]\u001b[A\n",
            " 57%|█████▋    | 4/7 [00:00<00:00, 10.85it/s]\u001b[A\n",
            "100%|██████████| 7/7 [00:00<00:00, 10.15it/s]\n",
            " 86%|████████▌ | 86/100 [00:58<00:09,  1.45it/s]"
          ]
        },
        {
          "output_type": "stream",
          "name": "stdout",
          "text": [
            "Epoch: 86/100 Step: 600 Training Loss: 0.6931 Validation Loss: 0.6931\n"
          ]
        },
        {
          "output_type": "stream",
          "name": "stderr",
          "text": [
            "\n",
            "  0%|          | 0/7 [00:00<?, ?it/s]\u001b[A\n",
            " 29%|██▊       | 2/7 [00:00<00:00, 13.96it/s]\u001b[A\n",
            " 57%|█████▋    | 4/7 [00:00<00:00, 11.03it/s]\u001b[A\n",
            "100%|██████████| 7/7 [00:00<00:00, 10.42it/s]\n",
            " 87%|████████▋ | 87/100 [00:59<00:08,  1.46it/s]\n",
            "  0%|          | 0/7 [00:00<?, ?it/s]\u001b[A\n",
            " 29%|██▊       | 2/7 [00:00<00:00, 14.13it/s]\u001b[A\n",
            " 57%|█████▋    | 4/7 [00:00<00:00, 10.59it/s]\u001b[A\n",
            "100%|██████████| 7/7 [00:00<00:00, 10.67it/s]\n",
            " 88%|████████▊ | 88/100 [00:59<00:08,  1.47it/s]\n",
            "  0%|          | 0/7 [00:00<?, ?it/s]\u001b[A\n",
            " 29%|██▊       | 2/7 [00:00<00:00, 13.60it/s]\u001b[A\n",
            " 57%|█████▋    | 4/7 [00:00<00:00, 10.75it/s]\u001b[A\n",
            "100%|██████████| 7/7 [00:00<00:00, 10.30it/s]\n",
            " 89%|████████▉ | 89/100 [01:00<00:07,  1.46it/s]\n",
            "  0%|          | 0/7 [00:00<?, ?it/s]\u001b[A\n",
            " 29%|██▊       | 2/7 [00:00<00:00, 14.32it/s]\u001b[A\n",
            " 57%|█████▋    | 4/7 [00:00<00:00, 10.63it/s]\u001b[A\n",
            "100%|██████████| 7/7 [00:00<00:00, 10.55it/s]\n",
            " 90%|█████████ | 90/100 [01:01<00:06,  1.47it/s]\n",
            "  0%|          | 0/7 [00:00<?, ?it/s]\u001b[A\n",
            " 29%|██▊       | 2/7 [00:00<00:00, 13.45it/s]\u001b[A\n",
            " 57%|█████▋    | 4/7 [00:00<00:00, 10.62it/s]\u001b[A\n",
            "100%|██████████| 7/7 [00:00<00:00, 10.49it/s]\n",
            " 91%|█████████ | 91/100 [01:01<00:06,  1.47it/s]\n",
            "  0%|          | 0/7 [00:00<?, ?it/s]\u001b[A\n",
            " 29%|██▊       | 2/7 [00:00<00:00, 13.69it/s]\u001b[A\n",
            " 57%|█████▋    | 4/7 [00:00<00:00, 10.63it/s]\u001b[A\n",
            "100%|██████████| 7/7 [00:00<00:00, 10.27it/s]\n",
            " 92%|█████████▏| 92/100 [01:02<00:05,  1.46it/s]\n",
            "  0%|          | 0/7 [00:00<?, ?it/s]\u001b[A\n",
            " 29%|██▊       | 2/7 [00:00<00:00, 13.97it/s]\u001b[A\n",
            " 57%|█████▋    | 4/7 [00:00<00:00, 10.81it/s]\u001b[A\n",
            "100%|██████████| 7/7 [00:00<00:00, 10.30it/s]\n",
            " 93%|█████████▎| 93/100 [01:03<00:04,  1.46it/s]\n",
            "  0%|          | 0/7 [00:00<?, ?it/s]\u001b[A\n",
            " 29%|██▊       | 2/7 [00:00<00:00, 13.91it/s]\u001b[A\n",
            " 57%|█████▋    | 4/7 [00:00<00:00, 10.73it/s]\u001b[A\n",
            "100%|██████████| 7/7 [00:00<00:00, 10.50it/s]\n",
            " 94%|█████████▍| 94/100 [01:04<00:04,  1.46it/s]\n",
            "  0%|          | 0/7 [00:00<?, ?it/s]\u001b[A\n",
            " 29%|██▊       | 2/7 [00:00<00:00, 13.45it/s]\u001b[A\n",
            " 57%|█████▋    | 4/7 [00:00<00:00, 10.59it/s]\u001b[A\n",
            "100%|██████████| 7/7 [00:00<00:00, 10.14it/s]\n",
            " 95%|█████████▌| 95/100 [01:04<00:03,  1.45it/s]\n",
            "  0%|          | 0/7 [00:00<?, ?it/s]\u001b[A\n",
            " 29%|██▊       | 2/7 [00:00<00:00, 14.54it/s]\u001b[A\n",
            " 57%|█████▋    | 4/7 [00:00<00:00, 10.94it/s]\u001b[A\n",
            "100%|██████████| 7/7 [00:00<00:00, 10.46it/s]\n",
            " 96%|█████████▌| 96/100 [01:05<00:02,  1.46it/s]\n",
            "  0%|          | 0/7 [00:00<?, ?it/s]\u001b[A\n",
            " 29%|██▊       | 2/7 [00:00<00:00, 13.75it/s]\u001b[A\n",
            " 57%|█████▋    | 4/7 [00:00<00:00, 10.84it/s]\u001b[A\n",
            "100%|██████████| 7/7 [00:00<00:00, 10.49it/s]\n",
            " 97%|█████████▋| 97/100 [01:06<00:02,  1.46it/s]\n",
            "  0%|          | 0/7 [00:00<?, ?it/s]\u001b[A\n",
            " 29%|██▊       | 2/7 [00:00<00:00, 13.54it/s]\u001b[A\n",
            " 57%|█████▋    | 4/7 [00:00<00:00, 10.48it/s]\u001b[A\n",
            "100%|██████████| 7/7 [00:00<00:00, 10.17it/s]\n",
            " 98%|█████████▊| 98/100 [01:06<00:01,  1.45it/s]\n",
            "  0%|          | 0/7 [00:00<?, ?it/s]\u001b[A\n",
            " 29%|██▊       | 2/7 [00:00<00:00, 13.95it/s]\u001b[A\n",
            " 57%|█████▋    | 4/7 [00:00<00:00, 10.91it/s]\u001b[A\n",
            "100%|██████████| 7/7 [00:00<00:00, 10.52it/s]\n",
            " 99%|█████████▉| 99/100 [01:07<00:00,  1.46it/s]\n",
            "  0%|          | 0/7 [00:00<?, ?it/s]\u001b[A\n",
            " 29%|██▊       | 2/7 [00:00<00:00, 13.17it/s]\u001b[A\n",
            " 57%|█████▋    | 4/7 [00:00<00:00, 10.52it/s]\u001b[A\n",
            "100%|██████████| 7/7 [00:00<00:00,  9.36it/s]\n",
            "100%|██████████| 100/100 [01:08<00:00,  1.47it/s]"
          ]
        },
        {
          "output_type": "stream",
          "name": "stdout",
          "text": [
            "Epoch: 100/100 Step: 700 Training Loss: 0.6944 Validation Loss: 0.6945\n"
          ]
        },
        {
          "output_type": "stream",
          "name": "stderr",
          "text": [
            "\n"
          ]
        }
      ],
      "source": [
        "from tqdm import tqdm\n",
        "\n",
        "print_every = 100\n",
        "step = 0\n",
        "n_epochs = 100  # validation loss increases from ~ epoch 3 or 4\n",
        "clip = 5  # gradient clip to prevent exploding gradient problem in LSTM/RNN\n",
        "device = torch.device(\"cuda\" if torch.cuda.is_available() else \"cpu\")\n",
        "net.to(device)\n",
        "net.train()\n",
        "\n",
        "for epoch in tqdm(range(n_epochs)):\n",
        "    # h = net.init_hidden(BATCH_SIZE)\n",
        "\n",
        "    for inputs, labels in tqdm(train_loader):\n",
        "        step += 1\n",
        "        inputs, labels = inputs.to(device), labels.to(device)\n",
        "\n",
        "        # making requires_grad = False for the latest set of h\n",
        "        # h = net.init_hidden(BATCH_SIZE)\n",
        "        # h = tuple([each.data for each in h])\n",
        "\n",
        "        # net.zero_grad()\n",
        "        # output, h = net(inputs, h)\n",
        "        output = net(inputs)\n",
        "        loss = criterion(output.squeeze(), labels.float())\n",
        "        loss.backward()\n",
        "        nn.utils.clip_grad_norm_(net.parameters(), clip)\n",
        "        optimizer.step()\n",
        "        optimizer.zero_grad()\n",
        "\n",
        "        if (step % print_every) == 0:\n",
        "            ######################\n",
        "            ##### VALIDATION #####\n",
        "            ######################\n",
        "            net.eval()\n",
        "            valid_losses = []\n",
        "            v_h = net.init_hidden(BATCH_SIZE)\n",
        "\n",
        "            for v_inputs, v_labels in valid_loader:\n",
        "                v_inputs, v_labels = inputs.to(device), labels.to(device)\n",
        "\n",
        "                # v_h = tuple([each.data for each in v_h])\n",
        "\n",
        "                # v_output, v_h = net(v_inputs, v_h)\n",
        "                v_output = net(v_inputs)\n",
        "                v_loss = criterion(v_output.squeeze(), v_labels.float())\n",
        "                valid_losses.append(v_loss.item())\n",
        "\n",
        "            print(\"Epoch: {}/{}\".format((epoch+1), n_epochs),\n",
        "                  \"Step: {}\".format(step),\n",
        "                  \"Training Loss: {:.4f}\".format(loss.item()),\n",
        "                  \"Validation Loss: {:.4f}\".format(np.mean(valid_losses)))\n",
        "            net.train()"
      ]
    },
    {
      "cell_type": "markdown",
      "metadata": {
        "id": "jOBJCieBX_Lp"
      },
      "source": [
        "### 12. TEST THE TRAINED MODEL ON THE TEST SET"
      ]
    },
    {
      "cell_type": "code",
      "execution_count": null,
      "metadata": {
        "colab": {
          "base_uri": "https://localhost:8080/"
        },
        "id": "zgebFtg9X_Lp",
        "outputId": "484a0366-5cf7-4def-e16d-ad05a4ef4dd7"
      },
      "outputs": [
        {
          "output_type": "stream",
          "name": "stdout",
          "text": [
            "Test Loss: 0.6934\n",
            "Test Accuracy: 0.48\n"
          ]
        }
      ],
      "source": [
        "net.eval()\n",
        "test_losses = []\n",
        "num_correct = 0\n",
        "test_h = net.init_hidden(BATCH_SIZE)\n",
        "net.to(device)\n",
        "for inputs, labels in test_loader:\n",
        "    # test_h = tuple([each.data for each in test_h])\n",
        "    inputs, labels = inputs.to(device), labels.to(device)\n",
        "    # test_output, test_h = net(inputs, test_h)\n",
        "    test_output = net(inputs)\n",
        "    loss = criterion(test_output, labels.float().unsqueeze(dim=1))\n",
        "    test_losses.append(loss.item())\n",
        "\n",
        "    preds = torch.round(test_output.squeeze())\n",
        "    correct_tensor = preds.eq(labels.float().view_as(preds))\n",
        "    correct = np.squeeze(correct_tensor.cpu().numpy())\n",
        "    num_correct += np.sum(correct)\n",
        "\n",
        "print(\"Test Loss: {:.4f}\".format(np.mean(test_losses)))\n",
        "print(\"Test Accuracy: {:.2f}\".format(num_correct / len(test_loader.dataset)))"
      ]
    },
    {
      "cell_type": "code",
      "source": [
        "inputs, labels = next(iter(test_loader))"
      ],
      "metadata": {
        "id": "DQMki_z0RRKx"
      },
      "execution_count": null,
      "outputs": []
    },
    {
      "cell_type": "code",
      "source": [
        "test_h = net.init_hidden(BATCH_SIZE)\n",
        "temp = net(inputs.to('cuda'), test_h)"
      ],
      "metadata": {
        "id": "ndrieCFDRb6i"
      },
      "execution_count": null,
      "outputs": []
    },
    {
      "cell_type": "code",
      "source": [
        "temp"
      ],
      "metadata": {
        "colab": {
          "base_uri": "https://localhost:8080/"
        },
        "id": "1tG4mNeNR41i",
        "outputId": "1039f6aa-f042-4672-de25-26646589ffa4"
      },
      "execution_count": null,
      "outputs": [
        {
          "output_type": "execute_result",
          "data": {
            "text/plain": [
              "tensor([[0.4996],\n",
              "        [0.4951],\n",
              "        [0.5042],\n",
              "        [0.5032],\n",
              "        [0.5019],\n",
              "        [0.4998],\n",
              "        [0.5036],\n",
              "        [0.4981],\n",
              "        [0.5003],\n",
              "        [0.4993],\n",
              "        [0.5053],\n",
              "        [0.5006],\n",
              "        [0.5030],\n",
              "        [0.5025],\n",
              "        [0.4998],\n",
              "        [0.5033],\n",
              "        [0.5017],\n",
              "        [0.5041],\n",
              "        [0.5025],\n",
              "        [0.5012],\n",
              "        [0.5026],\n",
              "        [0.4983],\n",
              "        [0.5060],\n",
              "        [0.4997],\n",
              "        [0.4999],\n",
              "        [0.5000],\n",
              "        [0.5030],\n",
              "        [0.4986],\n",
              "        [0.5025],\n",
              "        [0.5021],\n",
              "        [0.5027],\n",
              "        [0.4974],\n",
              "        [0.5059],\n",
              "        [0.4981],\n",
              "        [0.5013],\n",
              "        [0.5013],\n",
              "        [0.5003],\n",
              "        [0.5025],\n",
              "        [0.5012],\n",
              "        [0.4964],\n",
              "        [0.5032],\n",
              "        [0.5043],\n",
              "        [0.5018],\n",
              "        [0.4990],\n",
              "        [0.5017],\n",
              "        [0.4973],\n",
              "        [0.4988],\n",
              "        [0.4998],\n",
              "        [0.5018],\n",
              "        [0.5046],\n",
              "        [0.5039],\n",
              "        [0.5002],\n",
              "        [0.5040],\n",
              "        [0.5022],\n",
              "        [0.5003],\n",
              "        [0.4979],\n",
              "        [0.5012],\n",
              "        [0.4987],\n",
              "        [0.4958],\n",
              "        [0.5003],\n",
              "        [0.5038],\n",
              "        [0.5046],\n",
              "        [0.5028],\n",
              "        [0.5001],\n",
              "        [0.5035],\n",
              "        [0.5003],\n",
              "        [0.4973],\n",
              "        [0.5004],\n",
              "        [0.5029],\n",
              "        [0.5004],\n",
              "        [0.5052],\n",
              "        [0.5046],\n",
              "        [0.4987],\n",
              "        [0.5056],\n",
              "        [0.5039],\n",
              "        [0.4991],\n",
              "        [0.5024],\n",
              "        [0.4971],\n",
              "        [0.5003],\n",
              "        [0.4997],\n",
              "        [0.4986],\n",
              "        [0.5001],\n",
              "        [0.5002],\n",
              "        [0.5025],\n",
              "        [0.4993],\n",
              "        [0.4976],\n",
              "        [0.4972],\n",
              "        [0.5015],\n",
              "        [0.5007],\n",
              "        [0.5015],\n",
              "        [0.5028],\n",
              "        [0.4985],\n",
              "        [0.5013],\n",
              "        [0.5012],\n",
              "        [0.5043],\n",
              "        [0.5026],\n",
              "        [0.5066],\n",
              "        [0.5002],\n",
              "        [0.4976],\n",
              "        [0.5056],\n",
              "        [0.5003],\n",
              "        [0.5033],\n",
              "        [0.5007],\n",
              "        [0.5040],\n",
              "        [0.5008],\n",
              "        [0.5005],\n",
              "        [0.5003],\n",
              "        [0.5049],\n",
              "        [0.5000],\n",
              "        [0.5017],\n",
              "        [0.5020],\n",
              "        [0.5002],\n",
              "        [0.5027],\n",
              "        [0.4970],\n",
              "        [0.5038],\n",
              "        [0.5020],\n",
              "        [0.5014],\n",
              "        [0.5013],\n",
              "        [0.4990],\n",
              "        [0.5051],\n",
              "        [0.4990],\n",
              "        [0.5004],\n",
              "        [0.5026],\n",
              "        [0.5038],\n",
              "        [0.5041],\n",
              "        [0.5009],\n",
              "        [0.4996],\n",
              "        [0.5006],\n",
              "        [0.4979],\n",
              "        [0.4999],\n",
              "        [0.5011],\n",
              "        [0.4991],\n",
              "        [0.5034],\n",
              "        [0.4978],\n",
              "        [0.5032],\n",
              "        [0.4998],\n",
              "        [0.5037],\n",
              "        [0.5026],\n",
              "        [0.5044],\n",
              "        [0.5019],\n",
              "        [0.5026],\n",
              "        [0.5029],\n",
              "        [0.4988],\n",
              "        [0.5025],\n",
              "        [0.4983],\n",
              "        [0.5013],\n",
              "        [0.5034],\n",
              "        [0.4982],\n",
              "        [0.5065],\n",
              "        [0.4974],\n",
              "        [0.5021],\n",
              "        [0.5006],\n",
              "        [0.5040],\n",
              "        [0.5035],\n",
              "        [0.5021],\n",
              "        [0.5066],\n",
              "        [0.5015],\n",
              "        [0.4987],\n",
              "        [0.5006],\n",
              "        [0.5036],\n",
              "        [0.5011],\n",
              "        [0.5034],\n",
              "        [0.5004],\n",
              "        [0.5036],\n",
              "        [0.4980],\n",
              "        [0.4980],\n",
              "        [0.5030],\n",
              "        [0.4994],\n",
              "        [0.5029],\n",
              "        [0.4984],\n",
              "        [0.5039],\n",
              "        [0.4994],\n",
              "        [0.5047],\n",
              "        [0.5022],\n",
              "        [0.4953],\n",
              "        [0.5010],\n",
              "        [0.5011],\n",
              "        [0.5016],\n",
              "        [0.5000],\n",
              "        [0.5001],\n",
              "        [0.5038],\n",
              "        [0.5046],\n",
              "        [0.5014],\n",
              "        [0.5027],\n",
              "        [0.5014],\n",
              "        [0.5025],\n",
              "        [0.5044],\n",
              "        [0.5045],\n",
              "        [0.5014],\n",
              "        [0.5023],\n",
              "        [0.4987],\n",
              "        [0.4996],\n",
              "        [0.4973],\n",
              "        [0.5051],\n",
              "        [0.4971],\n",
              "        [0.5017],\n",
              "        [0.5013],\n",
              "        [0.5009],\n",
              "        [0.4995],\n",
              "        [0.5008]], device='cuda:0', grad_fn=<SigmoidBackward0>)"
            ]
          },
          "metadata": {},
          "execution_count": 58
        }
      ]
    },
    {
      "cell_type": "markdown",
      "metadata": {
        "id": "o-SoWsgKX_Lp"
      },
      "source": [
        "### 13. TEST THE TRAINED MODEL ON A RANDOM SINGLE REVIEW"
      ]
    },
    {
      "cell_type": "code",
      "execution_count": null,
      "metadata": {
        "colab": {
          "base_uri": "https://localhost:8080/",
          "height": 365
        },
        "id": "yhcC2t6HX_Lp",
        "outputId": "a206a8e5-6d1b-45cd-9c22-9c8ae6019986"
      },
      "outputs": [
        {
          "output_type": "error",
          "ename": "NameError",
          "evalue": "name 'vocab_to_int' is not defined",
          "traceback": [
            "\u001b[0;31m---------------------------------------------------------------------------\u001b[0m",
            "\u001b[0;31mNameError\u001b[0m                                 Traceback (most recent call last)",
            "\u001b[0;32m<ipython-input-62-20bfe7db5162>\u001b[0m in \u001b[0;36m<cell line: 29>\u001b[0;34m()\u001b[0m\n\u001b[1;32m     27\u001b[0m \u001b[0mreview5\u001b[0m \u001b[0;34m=\u001b[0m \u001b[0;34m\"Garbage\"\u001b[0m\u001b[0;34m\u001b[0m\u001b[0;34m\u001b[0m\u001b[0m\n\u001b[1;32m     28\u001b[0m                        \u001b[0;31m### OUTPUT ###\u001b[0m\u001b[0;34m\u001b[0m\u001b[0;34m\u001b[0m\u001b[0m\n\u001b[0;32m---> 29\u001b[0;31m \u001b[0mpredict\u001b[0m\u001b[0;34m(\u001b[0m\u001b[0mnet\u001b[0m\u001b[0;34m,\u001b[0m \u001b[0mreview1\u001b[0m\u001b[0;34m)\u001b[0m  \u001b[0;31m## negative ##\u001b[0m\u001b[0;34m\u001b[0m\u001b[0;34m\u001b[0m\u001b[0m\n\u001b[0m\u001b[1;32m     30\u001b[0m \u001b[0mpredict\u001b[0m\u001b[0;34m(\u001b[0m\u001b[0mnet\u001b[0m\u001b[0;34m,\u001b[0m \u001b[0mreview2\u001b[0m\u001b[0;34m)\u001b[0m  \u001b[0;31m## positive ##\u001b[0m\u001b[0;34m\u001b[0m\u001b[0;34m\u001b[0m\u001b[0m\n\u001b[1;32m     31\u001b[0m \u001b[0mpredict\u001b[0m\u001b[0;34m(\u001b[0m\u001b[0mnet\u001b[0m\u001b[0;34m,\u001b[0m \u001b[0mreview3\u001b[0m\u001b[0;34m)\u001b[0m  \u001b[0;31m## negative ##\u001b[0m\u001b[0;34m\u001b[0m\u001b[0;34m\u001b[0m\u001b[0m\n",
            "\u001b[0;32m<ipython-input-62-20bfe7db5162>\u001b[0m in \u001b[0;36mpredict\u001b[0;34m(net, review, seq_length)\u001b[0m\n\u001b[1;32m      3\u001b[0m \u001b[0;34m\u001b[0m\u001b[0m\n\u001b[1;32m      4\u001b[0m     \u001b[0mwords\u001b[0m \u001b[0;34m=\u001b[0m \u001b[0mtokenize\u001b[0m\u001b[0;34m(\u001b[0m\u001b[0mreview\u001b[0m\u001b[0;34m)\u001b[0m\u001b[0;34m\u001b[0m\u001b[0;34m\u001b[0m\u001b[0m\n\u001b[0;32m----> 5\u001b[0;31m     \u001b[0mencoded_words\u001b[0m \u001b[0;34m=\u001b[0m \u001b[0;34m[\u001b[0m\u001b[0mvocab_to_int\u001b[0m\u001b[0;34m[\u001b[0m\u001b[0mword\u001b[0m\u001b[0;34m]\u001b[0m \u001b[0;32mfor\u001b[0m \u001b[0mword\u001b[0m \u001b[0;32min\u001b[0m \u001b[0mwords\u001b[0m\u001b[0;34m]\u001b[0m\u001b[0;34m\u001b[0m\u001b[0;34m\u001b[0m\u001b[0m\n\u001b[0m\u001b[1;32m      6\u001b[0m     \u001b[0mpadded_words\u001b[0m \u001b[0;34m=\u001b[0m \u001b[0mpad_review\u001b[0m\u001b[0;34m(\u001b[0m\u001b[0mencoded_words\u001b[0m\u001b[0;34m,\u001b[0m \u001b[0mseq_length\u001b[0m\u001b[0;34m)\u001b[0m\u001b[0;34m\u001b[0m\u001b[0;34m\u001b[0m\u001b[0m\n\u001b[1;32m      7\u001b[0m     \u001b[0mpadded_words\u001b[0m \u001b[0;34m=\u001b[0m \u001b[0mtorch\u001b[0m\u001b[0;34m.\u001b[0m\u001b[0mfrom_numpy\u001b[0m\u001b[0;34m(\u001b[0m\u001b[0mpadded_words\u001b[0m\u001b[0;34m.\u001b[0m\u001b[0mreshape\u001b[0m\u001b[0;34m(\u001b[0m\u001b[0;36m1\u001b[0m\u001b[0;34m,\u001b[0m \u001b[0;34m-\u001b[0m\u001b[0;36m1\u001b[0m\u001b[0;34m)\u001b[0m\u001b[0;34m)\u001b[0m\u001b[0;34m.\u001b[0m\u001b[0mto\u001b[0m\u001b[0;34m(\u001b[0m\u001b[0mdevice\u001b[0m\u001b[0;34m)\u001b[0m\u001b[0;34m\u001b[0m\u001b[0;34m\u001b[0m\u001b[0m\n",
            "\u001b[0;32m<ipython-input-62-20bfe7db5162>\u001b[0m in \u001b[0;36m<listcomp>\u001b[0;34m(.0)\u001b[0m\n\u001b[1;32m      3\u001b[0m \u001b[0;34m\u001b[0m\u001b[0m\n\u001b[1;32m      4\u001b[0m     \u001b[0mwords\u001b[0m \u001b[0;34m=\u001b[0m \u001b[0mtokenize\u001b[0m\u001b[0;34m(\u001b[0m\u001b[0mreview\u001b[0m\u001b[0;34m)\u001b[0m\u001b[0;34m\u001b[0m\u001b[0;34m\u001b[0m\u001b[0m\n\u001b[0;32m----> 5\u001b[0;31m     \u001b[0mencoded_words\u001b[0m \u001b[0;34m=\u001b[0m \u001b[0;34m[\u001b[0m\u001b[0mvocab_to_int\u001b[0m\u001b[0;34m[\u001b[0m\u001b[0mword\u001b[0m\u001b[0;34m]\u001b[0m \u001b[0;32mfor\u001b[0m \u001b[0mword\u001b[0m \u001b[0;32min\u001b[0m \u001b[0mwords\u001b[0m\u001b[0;34m]\u001b[0m\u001b[0;34m\u001b[0m\u001b[0;34m\u001b[0m\u001b[0m\n\u001b[0m\u001b[1;32m      6\u001b[0m     \u001b[0mpadded_words\u001b[0m \u001b[0;34m=\u001b[0m \u001b[0mpad_review\u001b[0m\u001b[0;34m(\u001b[0m\u001b[0mencoded_words\u001b[0m\u001b[0;34m,\u001b[0m \u001b[0mseq_length\u001b[0m\u001b[0;34m)\u001b[0m\u001b[0;34m\u001b[0m\u001b[0;34m\u001b[0m\u001b[0m\n\u001b[1;32m      7\u001b[0m     \u001b[0mpadded_words\u001b[0m \u001b[0;34m=\u001b[0m \u001b[0mtorch\u001b[0m\u001b[0;34m.\u001b[0m\u001b[0mfrom_numpy\u001b[0m\u001b[0;34m(\u001b[0m\u001b[0mpadded_words\u001b[0m\u001b[0;34m.\u001b[0m\u001b[0mreshape\u001b[0m\u001b[0;34m(\u001b[0m\u001b[0;36m1\u001b[0m\u001b[0;34m,\u001b[0m \u001b[0;34m-\u001b[0m\u001b[0;36m1\u001b[0m\u001b[0;34m)\u001b[0m\u001b[0;34m)\u001b[0m\u001b[0;34m.\u001b[0m\u001b[0mto\u001b[0m\u001b[0;34m(\u001b[0m\u001b[0mdevice\u001b[0m\u001b[0;34m)\u001b[0m\u001b[0;34m\u001b[0m\u001b[0;34m\u001b[0m\u001b[0m\n",
            "\u001b[0;31mNameError\u001b[0m: name 'vocab_to_int' is not defined"
          ]
        }
      ],
      "source": [
        "def predict(net, review, seq_length=200):\n",
        "    device = torch.device(\"cuda\" if torch.cuda.is_available() else \"cpu\")\n",
        "\n",
        "    words = tokenize(review)\n",
        "    encoded_words = [vocab_to_int[word] for word in words]\n",
        "    padded_words = pad_review(encoded_words, seq_length)\n",
        "    padded_words = torch.from_numpy(padded_words.reshape(1, -1)).to(device)\n",
        "\n",
        "    if(len(padded_words) == 0):\n",
        "        \"Your review must contain at least 1 word!\"\n",
        "        return None\n",
        "\n",
        "    net.eval()\n",
        "    h = net.init_hidden(1)\n",
        "    # output, h = net(padded_words, h)\n",
        "    output = net(padded_words)\n",
        "    pred = torch.round(output.squeeze())\n",
        "    msg = \"This is a positive review.\" if pred == 0 else \"This is a negative review.\"\n",
        "\n",
        "    print(msg)\n",
        "\n",
        "\n",
        "review1 = \"It made me cry.\"\n",
        "review2 = \"It was so good it made me cry.\"\n",
        "review3 = \"It's ok.\"\n",
        "review4 = \"This movie had the best acting and the dialogue was so good. I loved it.\"\n",
        "review5 = \"Garbage\"\n",
        "                       ### OUTPUT ###\n",
        "predict(net, review1)  ## negative ##\n",
        "predict(net, review2)  ## positive ##\n",
        "predict(net, review3)  ## negative ##\n",
        "predict(net, review4)  ## positive ##\n",
        "predict(net, review5)  ## negative ##"
      ]
    },
    {
      "cell_type": "code",
      "source": [],
      "metadata": {
        "id": "rP5HqqXWROgA"
      },
      "execution_count": null,
      "outputs": []
    },
    {
      "cell_type": "markdown",
      "source": [
        "# Tagging"
      ],
      "metadata": {
        "id": "OithgAjyYB3v"
      }
    },
    {
      "cell_type": "markdown",
      "source": [
        "[source](https://github.com/baaraban/pytorch_ner)\n",
        "\n",
        "Prepare data:"
      ],
      "metadata": {
        "id": "aldGITm_YHNs"
      }
    },
    {
      "cell_type": "code",
      "source": [
        "def prepare_sequence(seq, to_ix):\n",
        "    idxs = [to_ix[w] for w in seq]\n",
        "    return torch.tensor(idxs, dtype=torch.long)\n",
        "\n",
        "\n",
        "training_data = [\n",
        "    (\"EU rejects German call to boycott British lamb .\".split(), [\"B-ORG\", \"O\", \"B-MISC\", \"O\", \"O\", \"O\", \"B-MISC\", \"O\", \"O\"]),\n",
        "    (\"Only France and Britain backed Fisher 's proposal .\".split(), [\"O\", \"B-LOC\", \"O\", \"B-LOC\", \"O\", \"B-PER\", \"O\", \"O\", \"O\"]),\n",
        "    (\"Germany imported 47,600 sheep from Britain last year , nearly half of total imports .\".split(),\n",
        "                                          [\"B-LOC\", \"O\", \"O\", \"O\", \"O\", \"B-LOC\", \"O\", \"O\", \"O\", \"O\", \"O\", \"O\", \"O\", \"O\", \"O\"]),\n",
        "    (\"Rare Hendrix song draft sells for almost $ 17,000 .\".split(), [\"O\", \"B-PER\", \"O\", \"O\", \"O\", \"O\", \"O\", \"O\", \"O\", \"O\"]),\n",
        "    (\"The guitarist died of a drugs overdose in 1970 aged 27 .\".split(), [\"O\", \"O\", \"O\", \"O\", \"O\", \"O\", \"O\", \"O\", \"O\", \"O\", \"O\", \"O\"]),\n",
        "    (\"China says Taiwan spoils almosphere for talks .\".split(), [\"B-LOC\", \"O\", \"B-LOC\", \"O\", \"O\", \"O\", \"O\", \"O\"])\n",
        "]\n",
        "word_to_ix = {}\n",
        "for sent, tags in training_data:\n",
        "    for word in sent:\n",
        "        if word not in word_to_ix:\n",
        "            word_to_ix[word] = len(word_to_ix)\n",
        "print(word_to_ix)\n",
        "tag_to_ix = {\"O\": 0, \"B-ORG\": 1, \"B-LOC\": 2, \"B-PER\": 3, \"B-MISC\": 4}\n",
        "\n",
        "# These will usually be more like 32 or 64 dimensional.\n",
        "# We will keep them small, so we can see how the weights change as we train.\n",
        "EMBEDDING_DIM = 6\n",
        "HIDDEN_DIM = 6"
      ],
      "metadata": {
        "id": "PBkVFMA_YJb8",
        "colab": {
          "base_uri": "https://localhost:8080/"
        },
        "outputId": "f0b4d9af-9664-44c7-93d1-e66f0512937f"
      },
      "execution_count": null,
      "outputs": [
        {
          "output_type": "stream",
          "name": "stdout",
          "text": [
            "{'EU': 0, 'rejects': 1, 'German': 2, 'call': 3, 'to': 4, 'boycott': 5, 'British': 6, 'lamb': 7, '.': 8, 'Only': 9, 'France': 10, 'and': 11, 'Britain': 12, 'backed': 13, 'Fisher': 14, \"'s\": 15, 'proposal': 16, 'Germany': 17, 'imported': 18, '47,600': 19, 'sheep': 20, 'from': 21, 'last': 22, 'year': 23, ',': 24, 'nearly': 25, 'half': 26, 'of': 27, 'total': 28, 'imports': 29, 'Rare': 30, 'Hendrix': 31, 'song': 32, 'draft': 33, 'sells': 34, 'for': 35, 'almost': 36, '$': 37, '17,000': 38, 'The': 39, 'guitarist': 40, 'died': 41, 'a': 42, 'drugs': 43, 'overdose': 44, 'in': 45, '1970': 46, 'aged': 47, '27': 48, 'China': 49, 'says': 50, 'Taiwan': 51, 'spoils': 52, 'almosphere': 53, 'talks': 54}\n"
          ]
        }
      ]
    },
    {
      "cell_type": "markdown",
      "source": [
        "Create the model:"
      ],
      "metadata": {
        "id": "NHdOB3bIYQ98"
      }
    },
    {
      "cell_type": "code",
      "source": [
        "class LSTMTagger(nn.Module):\n",
        "\n",
        "    def __init__(self, embedding_dim, hidden_dim, vocab_size, tagset_size):\n",
        "        super(LSTMTagger, self).__init__()\n",
        "        self.hidden_dim = hidden_dim\n",
        "\n",
        "        self.word_embeddings = nn.Embedding(vocab_size, embedding_dim)\n",
        "\n",
        "        # The LSTM takes word embeddings as inputs, and outputs hidden states\n",
        "        # with dimensionality hidden_dim.\n",
        "        self.lstm = nn.LSTM(embedding_dim, hidden_dim)\n",
        "\n",
        "        # The linear layer that maps from hidden state space to tag space\n",
        "        self.hidden2tag = nn.Linear(hidden_dim, tagset_size)\n",
        "\n",
        "    def forward(self, sentence):\n",
        "        embeds = self.word_embeddings(sentence)\n",
        "        lstm_out, _ = self.lstm(embeds.view(len(sentence), 1, -1))\n",
        "        tag_space = self.hidden2tag(lstm_out.view(len(sentence), -1))\n",
        "        tag_scores = F.log_softmax(tag_space, dim=1)\n",
        "        return tag_scores"
      ],
      "metadata": {
        "id": "EHiAAyIeYXxL"
      },
      "execution_count": null,
      "outputs": []
    },
    {
      "cell_type": "markdown",
      "source": [
        "Train the model:"
      ],
      "metadata": {
        "id": "rOEDuSZlYopW"
      }
    },
    {
      "cell_type": "code",
      "source": [
        "model = LSTMTagger(EMBEDDING_DIM, HIDDEN_DIM, len(word_to_ix), len(tag_to_ix))\n",
        "loss_function = nn.NLLLoss()\n",
        "optimizer = optim.SGD(model.parameters(), lr=0.1)\n",
        "\n",
        "# See what the scores are before training\n",
        "# Note that element i,j of the output is the score for tag j for word i.\n",
        "# Here we don't need to train, so the code is wrapped in torch.no_grad()\n",
        "with torch.no_grad():\n",
        "    inputs = prepare_sequence(training_data[0][0], word_to_ix)\n",
        "    tag_scores = model(inputs)\n",
        "    print(tag_scores)\n",
        "\n",
        "for epoch in range(300):  # again, normally you would NOT do 300 epochs, it is toy data\n",
        "    for sentence, tags in training_data:\n",
        "        # Step 1. Remember that Pytorch accumulates gradients.\n",
        "        # We need to clear them out before each instance\n",
        "        model.zero_grad()\n",
        "\n",
        "        # Step 2. Get our inputs ready for the network, that is, turn them into\n",
        "        # Tensors of word indices.\n",
        "        sentence_in = prepare_sequence(sentence, word_to_ix)\n",
        "        targets = prepare_sequence(tags, tag_to_ix)\n",
        "\n",
        "        # Step 3. Run our forward pass.\n",
        "        tag_scores = model(sentence_in)\n",
        "\n",
        "        # Step 4. Compute the loss, gradients, and update the parameters by\n",
        "        #  calling optimizer.step()\n",
        "        loss = loss_function(tag_scores, targets)\n",
        "        loss.backward()\n",
        "        optimizer.step()\n",
        "\n",
        "# See what the scores are after training\n",
        "with torch.no_grad():\n",
        "    inputs = prepare_sequence(training_data[0][0], word_to_ix)\n",
        "    tag_scores = model(inputs)\n",
        "\n",
        "    # The sentence is \"EU rejects German call to boycott British lamb .\".\n",
        "    # i,j corresponds to score for tag j for word i. The predicted tag is\n",
        "    # the maximum scoring tag.\n",
        "    # Here, we can see the predicted sequence below is 1 0 2 0 0 0 2 0 0\n",
        "    # since 1 is index of the maximum value of row 1,\n",
        "    # 0 is the index of maximum value of row 2, etc.\n",
        "    # Which is B-ORG O B-MISC O..., the correct sequence!\n",
        "    print(tag_scores)"
      ],
      "metadata": {
        "id": "0u6yXUhFYr79",
        "colab": {
          "base_uri": "https://localhost:8080/"
        },
        "outputId": "fca41dd2-e920-4029-c5be-199149a50662"
      },
      "execution_count": null,
      "outputs": [
        {
          "output_type": "stream",
          "name": "stdout",
          "text": [
            "tensor([[-1.7318, -2.0072, -1.3219, -1.4284, -1.7018],\n",
            "        [-1.5456, -2.1472, -1.3576, -1.5557, -1.6009],\n",
            "        [-1.6934, -2.0625, -1.3707, -1.4036, -1.6642],\n",
            "        [-1.6405, -2.0375, -1.4234, -1.4200, -1.6443],\n",
            "        [-1.6193, -1.9612, -1.4729, -1.4532, -1.6184],\n",
            "        [-1.6240, -2.0439, -1.5307, -1.4145, -1.5420],\n",
            "        [-1.6078, -2.1017, -1.5134, -1.3892, -1.5702],\n",
            "        [-1.5866, -2.1500, -1.4780, -1.4220, -1.5628],\n",
            "        [-1.6069, -2.0913, -1.4214, -1.4397, -1.6215]])\n",
            "tensor([[-5.0487e+00, -4.6411e-01, -1.3104e+00, -3.6776e+00, -2.6607e+00],\n",
            "        [-9.9320e-02, -5.2737e+00, -3.5002e+00, -3.5282e+00, -3.5107e+00],\n",
            "        [-2.5974e+00, -2.4867e+00, -3.6655e+00, -1.5256e+00, -5.1203e-01],\n",
            "        [-1.7055e-02, -7.9594e+00, -7.5915e+00, -4.8487e+00, -4.8015e+00],\n",
            "        [-5.0568e-04, -1.0675e+01, -1.0791e+01, -8.6217e+00, -8.1747e+00],\n",
            "        [-3.8499e-02, -7.6951e+00, -7.3890e+00, -4.2124e+00, -3.8220e+00],\n",
            "        [-2.4814e+00, -4.8910e+00, -4.1896e+00, -1.0787e+00, -5.9116e-01],\n",
            "        [-2.5397e-02, -7.9895e+00, -7.5051e+00, -5.0947e+00, -4.0141e+00],\n",
            "        [-4.1432e-03, -7.9358e+00, -7.2664e+00, -7.3915e+00, -6.0069e+00]])\n"
          ]
        }
      ]
    },
    {
      "cell_type": "markdown",
      "metadata": {
        "id": "LFcezZaVaEZX"
      },
      "source": [
        "## Task\n",
        "\n",
        "Initialize model embedding layer with pre-trained word2vec embeddings. Train new model with obtained layer. Compare results with  on test dataset."
      ]
    },
    {
      "cell_type": "code",
      "execution_count": null,
      "metadata": {
        "id": "y8eiiO1CX_Lq"
      },
      "outputs": [],
      "source": []
    }
  ],
  "metadata": {
    "colab": {
      "provenance": [],
      "gpuType": "T4"
    },
    "kernelspec": {
      "display_name": "Python 3",
      "name": "python3"
    },
    "language_info": {
      "codemirror_mode": {
        "name": "ipython",
        "version": 3
      },
      "file_extension": ".py",
      "mimetype": "text/x-python",
      "name": "python",
      "nbconvert_exporter": "python",
      "pygments_lexer": "ipython3",
      "version": "3.7.4"
    },
    "accelerator": "GPU"
  },
  "nbformat": 4,
  "nbformat_minor": 0
}