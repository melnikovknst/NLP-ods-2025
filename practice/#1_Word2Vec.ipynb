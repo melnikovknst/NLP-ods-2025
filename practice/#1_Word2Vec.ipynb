{
 "cells": [
  {
   "cell_type": "markdown",
   "metadata": {},
   "source": [
    "Word2Vec model train function. data - list of words"
   ]
  },
  {
   "cell_type": "code",
   "execution_count": null,
   "metadata": {},
   "outputs": [],
   "source": [
    "import numpy as np\n",
    "\n",
    "def train(data: str):\n",
    "    words = data.split()\n",
    "    vocab = list(set(words))\n",
    "\n",
    "    w2v_dict = {word: np.random.uniform(-1, 1, 100) for word in vocab}\n",
    "\n",
    "    for epoch in range(3):\n",
    "        for i, word in enumerate(words):\n",
    "            start_idx = max(0, i - 1)\n",
    "            end_idx = min(len(words), i + 1)\n",
    "            context = [words[j] for j in range(start_idx, end_idx)]\n",
    "\n",
    "            center_word = word\n",
    "            center_word_vector = w2v_dict[center_word]\n",
    "\n",
    "            for context_word in context:\n",
    "                context_word_vector = w2v_dict[context_word]\n",
    "\n",
    "                error = center_word_vector - context_word_vector\n",
    "                w2v_dict[center_word] -= 0.5 * error\n",
    "\n",
    "    return w2v_dict"
   ]
  }
 ],
 "metadata": {
  "language_info": {
   "name": "python"
  }
 },
 "nbformat": 4,
 "nbformat_minor": 2
}
